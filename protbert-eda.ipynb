{
 "cells": [
  {
   "cell_type": "markdown",
   "id": "ce8e4645",
   "metadata": {},
   "source": [
    "# Set Up"
   ]
  },
  {
   "cell_type": "markdown",
   "id": "a81be04e",
   "metadata": {},
   "source": [
    "## Loading Libraries"
   ]
  },
  {
   "cell_type": "code",
   "execution_count": 1,
   "id": "a25a7bd4",
   "metadata": {},
   "outputs": [],
   "source": [
    "# linear algebra\n",
    "import numpy as np \n",
    "# data processing, CSV file I/O (e.g. pd.read_csv)\n",
    "import pandas as pd \n",
    "\n",
    "# data check\n",
    "from collections import Counter\n",
    "\n",
    "# transformer\n",
    "import torch\n",
    "from transformers import BertModel, BertTokenizer\n",
    "import datasets\n",
    "\n",
    "# analysis\n",
    "from sklearn.cluster import KMeans\n",
    "from sklearn.mixture import GaussianMixture\n",
    "from sklearn.cluster import AgglomerativeClustering\n",
    "from umap import UMAP\n",
    "from sklearn.preprocessing import MinMaxScaler\n",
    "\n",
    "# visualization\n",
    "import seaborn as sns\n",
    "import matplotlib.pyplot as plt\n",
    "\n",
    "# use biopython to extract protein properties\n",
    "from Bio.SeqUtils.ProtParam import ProteinAnalysis\n",
    "\n",
    "# util\n",
    "from tqdm import tqdm\n",
    "\n",
    "# Input data files are available in the read-only \"/input/\" directory\n",
    "import os\n",
    "for dirname, _, filenames in os.walk('/kaggle/input'):\n",
    "    for filename in filenames:\n",
    "        print(os.path.join(dirname, filename))"
   ]
  },
  {
   "cell_type": "markdown",
   "id": "8b0b957e",
   "metadata": {},
   "source": [
    "## Load Model"
   ]
  },
  {
   "cell_type": "markdown",
   "id": "bb0d39dc",
   "metadata": {},
   "source": [
    "### ProtBert model is being loaded from Rosatlab which is a pretrained model on protien sequence. This model can be used for feature extraction as well as for fine tuning."
   ]
  },
  {
   "cell_type": "code",
   "execution_count": 2,
   "id": "0a2509eb",
   "metadata": {},
   "outputs": [
    {
     "name": "stderr",
     "output_type": "stream",
     "text": [
      "Some weights of the model checkpoint at Rostlab/prot_bert were not used when initializing BertModel: ['cls.predictions.transform.LayerNorm.bias', 'cls.predictions.bias', 'cls.predictions.transform.dense.bias', 'cls.predictions.decoder.bias', 'cls.predictions.transform.dense.weight', 'cls.seq_relationship.weight', 'cls.predictions.decoder.weight', 'cls.seq_relationship.bias', 'cls.predictions.transform.LayerNorm.weight']\n",
      "- This IS expected if you are initializing BertModel from the checkpoint of a model trained on another task or with another architecture (e.g. initializing a BertForSequenceClassification model from a BertForPreTraining model).\n",
      "- This IS NOT expected if you are initializing BertModel from the checkpoint of a model that you expect to be exactly identical (initializing a BertForSequenceClassification model from a BertForSequenceClassification model).\n"
     ]
    }
   ],
   "source": [
    "device = torch.device('cuda' if torch.cuda.is_available() else 'cpu')\n",
    "tokenizer = BertTokenizer.from_pretrained(\"Rostlab/prot_bert\", do_lower_case=False )\n",
    "model = BertModel.from_pretrained(\"Rostlab/prot_bert\").to(device)"
   ]
  },
  {
   "cell_type": "markdown",
   "id": "2cabdaf1",
   "metadata": {},
   "source": [
    "# Data Preparation"
   ]
  },
  {
   "cell_type": "markdown",
   "id": "06b3f506",
   "metadata": {},
   "source": [
    "## Load Data"
   ]
  },
  {
   "cell_type": "code",
   "execution_count": 9,
   "id": "27ac1bd4",
   "metadata": {},
   "outputs": [],
   "source": [
    "train = pd.read_csv('input/novozymes-enzyme-stability-prediction/train.csv')\n",
    "train_update = pd.read_csv('input/novozymes-enzyme-stability-prediction/train_updates_20220929.csv',\n",
    "                           index_col='seq_id')\n",
    "#Dropping \"data_source\" column as it has no data\n",
    "train_update = train_update.drop('data_source', axis = 1)\n",
    "test = pd.read_csv('input/novozymes-enzyme-stability-prediction/test.csv')"
   ]
  },
  {
   "cell_type": "markdown",
   "id": "c46fa645",
   "metadata": {},
   "source": [
    "## Data Correction"
   ]
  },
  {
   "cell_type": "code",
   "execution_count": 10,
   "id": "7bf3d4ad",
   "metadata": {},
   "outputs": [],
   "source": [
    "train_drop_id = train_update[train_update.isnull().all('columns')].index\n",
    "train_swap_id = train_update[train_update.notnull().all('columns')].index\n",
    "\n",
    "train = train.drop(train.index[train_drop_id], axis = 0)\n",
    "train.loc[train_swap_id, ['pH','tm']] = train_update.loc[train_swap_id, ['pH','tm']]\n",
    "train = train.reset_index(drop = True)"
   ]
  },
  {
   "cell_type": "markdown",
   "id": "2a8b1741",
   "metadata": {},
   "source": [
    "## Checking Input Sequence Length"
   ]
  },
  {
   "cell_type": "code",
   "execution_count": 15,
   "id": "65e7fc41",
   "metadata": {},
   "outputs": [
    {
     "name": "stdout",
     "output_type": "stream",
     "text": [
      "MIN :5\n",
      "MAX :8798\n",
      "MEAN :450.468617370001\n",
      "MEDIAN :351.0\n"
     ]
    }
   ],
   "source": [
    "train['seq_length'] = [len(s) for s in train['protein_sequence']]\n",
    "print(f\"MIN :{train['seq_length'].min()}\\nMAX :{train['seq_length'].max()}\\n\\\n",
    "MEAN :{train['seq_length'].mean()}\\nMEDIAN :{train['seq_length'].median()}\")"
   ]
  },
  {
   "cell_type": "markdown",
   "id": "b3f50cf8",
   "metadata": {},
   "source": [
    "## Drop too long sequences"
   ]
  },
  {
   "cell_type": "code",
   "execution_count": 16,
   "id": "4e6647da",
   "metadata": {},
   "outputs": [
    {
     "data": {
      "text/plain": [
       "851.0"
      ]
     },
     "execution_count": 16,
     "metadata": {},
     "output_type": "execute_result"
    }
   ],
   "source": [
    "train['seq_length'].quantile(0.90)"
   ]
  },
  {
   "cell_type": "code",
   "execution_count": 20,
   "id": "301f9f38",
   "metadata": {},
   "outputs": [
    {
     "data": {
      "text/plain": [
       "<seaborn.axisgrid.FacetGrid at 0x7fae27d585b0>"
      ]
     },
     "execution_count": 20,
     "metadata": {},
     "output_type": "execute_result"
    },
    {
     "data": {
      "image/png": "[encoded data removed]",
      "text/plain": [
       "<Figure size 360x360 with 1 Axes>"
      ]
     },
     "metadata": {
      "needs_background": "light"
     },
     "output_type": "display_data"
    }
   ],
   "source": [
    "sns.displot(train['seq_length'],kde=True)"
   ]
  },
  {
   "cell_type": "code",
   "execution_count": 21,
   "id": "43beb69f",
   "metadata": {},
   "outputs": [],
   "source": [
    "# drop too long sequence\n",
    "train_long_id = train[train['seq_length']>851].index\n",
    "train = train.drop(train.index[train_long_id], axis = 0)\n",
    "train = train.reset_index(drop = True)"
   ]
  },
  {
   "cell_type": "code",
   "execution_count": 22,
   "id": "393a3006",
   "metadata": {},
   "outputs": [
    {
     "data": {
      "text/plain": [
       "<seaborn.axisgrid.FacetGrid at 0x7faea88abf10>"
      ]
     },
     "execution_count": 22,
     "metadata": {},
     "output_type": "execute_result"
    },
    {
     "data": {
      "image/png": "[encoded data removed]",
      "text/plain": [
       "<Figure size 360x360 with 1 Axes>"
      ]
     },
     "metadata": {
      "needs_background": "light"
     },
     "output_type": "display_data"
    }
   ],
   "source": [
    "sns.displot(train['seq_length'],kde=True)"
   ]
  },
  {
   "cell_type": "markdown",
   "id": "98f4ef97",
   "metadata": {},
   "source": [
    "#### We are dropping sequences that are too long to save the GPU memory, as from the above plots you can observe that most of the sequence has length between 200 and 850."
   ]
  },
  {
   "cell_type": "markdown",
   "id": "cc12a890",
   "metadata": {},
   "source": [
    "# Test Prot_Bert"
   ]
  },
  {
   "cell_type": "markdown",
   "id": "20fce6dd",
   "metadata": {},
   "source": [
    "## Tokenize sequences"
   ]
  },
  {
   "cell_type": "markdown",
   "id": "afd4a92c",
   "metadata": {},
   "source": [
    "### Test by single sequence"
   ]
  },
  {
   "cell_type": "code",
   "execution_count": 26,
   "id": "a1a26558",
   "metadata": {},
   "outputs": [],
   "source": [
    "sequence_example = train['protein_sequence'][4]\n",
    "sequence_example = ' '.join(list(sequence_example))\n",
    "encoded_input = tokenizer(sequence_example, return_tensors='pt').to(device)\n",
    "output = model(**encoded_input)"
   ]
  },
  {
   "cell_type": "code",
   "execution_count": 27,
   "id": "fa1317fb",
   "metadata": {},
   "outputs": [
    {
     "data": {
      "text/plain": [
       "torch.Size([1, 382])"
      ]
     },
     "execution_count": 27,
     "metadata": {},
     "output_type": "execute_result"
    }
   ],
   "source": [
    "encoded_input['input_ids'].shape"
   ]
  },
  {
   "cell_type": "code",
   "execution_count": 28,
   "id": "b484f2f2",
   "metadata": {},
   "outputs": [
    {
     "data": {
      "text/plain": [
       "torch.Size([1, 382, 1024])"
      ]
     },
     "execution_count": 28,
     "metadata": {},
     "output_type": "execute_result"
    }
   ],
   "source": [
    "output['last_hidden_state'].shape"
   ]
  },
  {
   "cell_type": "code",
   "execution_count": 29,
   "id": "0917da58",
   "metadata": {},
   "outputs": [
    {
     "data": {
      "text/plain": [
       "array([ 0.05609831,  0.01732929,  0.03116154, ...,  0.03675359,\n",
       "       -0.00251826, -0.03068385], dtype=float32)"
      ]
     },
     "execution_count": 29,
     "metadata": {},
     "output_type": "execute_result"
    }
   ],
   "source": [
    "output['last_hidden_state'][:,0][0].detach().cpu().numpy()"
   ]
  },
  {
   "cell_type": "code",
   "execution_count": 30,
   "id": "534a9cb7",
   "metadata": {},
   "outputs": [
    {
     "data": {
      "text/plain": [
       "1024"
      ]
     },
     "execution_count": 30,
     "metadata": {},
     "output_type": "execute_result"
    }
   ],
   "source": [
    "len(output['last_hidden_state'][:,0][0].detach().cpu().numpy())"
   ]
  },
  {
   "cell_type": "markdown",
   "id": "64b434d2",
   "metadata": {},
   "source": [
    "#### The tokenizer of prot_bert only accept white space splitted sequence. So added spaces before processing the sequence."
   ]
  },
  {
   "cell_type": "code",
   "execution_count": null,
   "id": "0331c82b",
   "metadata": {},
   "outputs": [],
   "source": []
  }
 ],
 "metadata": {
  "kernelspec": {
   "display_name": "Python 3 (ipykernel)",
   "language": "python",
   "name": "python3"
  },
  "language_info": {
   "codemirror_mode": {
    "name": "ipython",
    "version": 3
   },
   "file_extension": ".py",
   "mimetype": "text/x-python",
   "name": "python",
   "nbconvert_exporter": "python",
   "pygments_lexer": "ipython3",
   "version": "3.9.12"
  }
 },
 "nbformat": 4,
 "nbformat_minor": 5
}
