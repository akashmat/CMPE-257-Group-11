{
  "nbformat": 4,
  "nbformat_minor": 0,
  "metadata": {
    "colab": {
      "provenance": []
    },
    "kernelspec": {
      "name": "python3",
      "display_name": "Python 3"
    },
    "language_info": {
      "name": "python"
    }
  },
  "cells": [
    {
      "cell_type": "code",
      "execution_count": 1,
      "metadata": {
        "colab": {
          "base_uri": "https://localhost:8080/"
        },
        "id": "QtrtHUSDJESS",
        "outputId": "963d616c-1491-4310-8f49-5231477ae799"
      },
      "outputs": [
        {
          "output_type": "stream",
          "name": "stdout",
          "text": [
            "Looking in indexes: https://pypi.org/simple, https://us-python.pkg.dev/colab-wheels/public/simple/\n",
            "Collecting scikit_optimize\n",
            "  Downloading scikit_optimize-0.9.0-py2.py3-none-any.whl (100 kB)\n",
            "\u001b[K     |████████████████████████████████| 100 kB 4.8 MB/s \n",
            "\u001b[?25hRequirement already satisfied: scikit-learn>=0.20.0 in /usr/local/lib/python3.8/dist-packages (from scikit_optimize) (1.0.2)\n",
            "Collecting pyaml>=16.9\n",
            "  Downloading pyaml-21.10.1-py2.py3-none-any.whl (24 kB)\n",
            "Requirement already satisfied: scipy>=0.19.1 in /usr/local/lib/python3.8/dist-packages (from scikit_optimize) (1.7.3)\n",
            "Requirement already satisfied: joblib>=0.11 in /usr/local/lib/python3.8/dist-packages (from scikit_optimize) (1.2.0)\n",
            "Requirement already satisfied: numpy>=1.13.3 in /usr/local/lib/python3.8/dist-packages (from scikit_optimize) (1.21.6)\n",
            "Requirement already satisfied: PyYAML in /usr/local/lib/python3.8/dist-packages (from pyaml>=16.9->scikit_optimize) (6.0)\n",
            "Requirement already satisfied: threadpoolctl>=2.0.0 in /usr/local/lib/python3.8/dist-packages (from scikit-learn>=0.20.0->scikit_optimize) (3.1.0)\n",
            "Installing collected packages: pyaml, scikit-optimize\n",
            "Successfully installed pyaml-21.10.1 scikit-optimize-0.9.0\n"
          ]
        }
      ],
      "source": [
        "#modules\n",
        "import matplotlib.pyplot as plt\n",
        "import xgboost as xgb\n",
        "from matplotlib import rcParams\n",
        "from sklearn.model_selection import KFold, cross_val_score, StratifiedKFold\n",
        "from sklearn.model_selection import train_test_split\n",
        "from sklearn.utils import shuffle\n",
        "!pip install scikit_optimize\n",
        "from scipy.stats import spearmanr\n",
        "from skopt.space import Real, Categorical, Integer\n",
        "from sklearn.model_selection import GridSearchCV\n",
        "from skopt import BayesSearchCV\n",
        "seed = 42"
      ]
    },
    {
      "cell_type": "code",
      "source": [
        "from google.colab import drive\n",
        "drive.mount('/content/drive')"
      ],
      "metadata": {
        "colab": {
          "base_uri": "https://localhost:8080/"
        },
        "id": "iTTMcfuAJzyi",
        "outputId": "70706bc9-77dc-4873-e12f-98b2d983f401"
      },
      "execution_count": 2,
      "outputs": [
        {
          "output_type": "stream",
          "name": "stdout",
          "text": [
            "Drive already mounted at /content/drive; to attempt to forcibly remount, call drive.mount(\"/content/drive\", force_remount=True).\n"
          ]
        }
      ]
    },
    {
      "cell_type": "code",
      "source": [
        "import pandas as pd\n",
        "train_data=pd.read_csv(\"/content/drive/MyDrive/novozymes-enzyme-stability-prediction/train.csv\")"
      ],
      "metadata": {
        "id": "Sa1kGWyIJ0Yz"
      },
      "execution_count": 3,
      "outputs": []
    },
    {
      "cell_type": "code",
      "source": [
        "train_data.info()"
      ],
      "metadata": {
        "colab": {
          "base_uri": "https://localhost:8080/"
        },
        "id": "XQVBRjx2J0-h",
        "outputId": "9e3d016c-7fca-47c8-e908-ae77b8f51597"
      },
      "execution_count": 4,
      "outputs": [
        {
          "output_type": "stream",
          "name": "stdout",
          "text": [
            "<class 'pandas.core.frame.DataFrame'>\n",
            "RangeIndex: 31390 entries, 0 to 31389\n",
            "Data columns (total 5 columns):\n",
            " #   Column            Non-Null Count  Dtype  \n",
            "---  ------            --------------  -----  \n",
            " 0   seq_id            31390 non-null  int64  \n",
            " 1   protein_sequence  31390 non-null  object \n",
            " 2   pH                31104 non-null  float64\n",
            " 3   data_source       28043 non-null  object \n",
            " 4   tm                31390 non-null  float64\n",
            "dtypes: float64(2), int64(1), object(2)\n",
            "memory usage: 1.2+ MB\n"
          ]
        }
      ]
    },
    {
      "cell_type": "markdown",
      "source": [
        "#data preprocessing"
      ],
      "metadata": {
        "id": "frTOe1jLLf0Y"
      }
    },
    {
      "cell_type": "code",
      "source": [
        "#feature-1 Length of the protien \n",
        "!pip3 install protlearn\n",
        "import protlearn as pl \n",
        "from protlearn.features import length, entropy, aaindex1, atc, aac\n",
        "\n",
        "# Why Protlearn Module ?\n",
        "\"\"\"\n",
        "A technique for extracting features from protein sequences is called protolearn. \n",
        "It is a free Python tool that enables users to effectively extract amino acid sequence features from proteins or peptides. \n",
        "These features may then be utilized for a range of downstream machine learning tasks. \n",
        "Currently, protlearn consists of three primary modules: \n",
        "\n",
        "dimension reduction and feature extraction during preprocessing \n",
        "The Preprocessing area enables the user to prepare the datasets in accordance with certain requirements, such as removing sequences that include unnatural amino acids or changing alphabetical strings into integers. \n",
        "The dataset's amino acid sequence features, such as amino acid composition or AAIndex-based physicochemical attributes, can then be computed using the Feature Extraction section. \n",
        "Protlearn presently offers 21 such functions in total.\n",
        "The dimensionality of the computed features can be reduced using feature selection techniques, which lessens redundant computation and lessens the computational load on the classifiers.\n",
        " \n",
        "\n",
        "From my research from the protien sequence the important elements we can extract can be done by using the below functions:\n",
        "\n",
        "Functions Used:\n",
        "\n",
        "1. Amino acid composition: (aac)\n",
        "This function returns the frequency of amino acids for each sequence in the dataset. aac is calculated as follows:\n",
        "𝑎𝑎𝑐(𝑖) = 𝑛𝑖/N\n",
        "    \n",
        "protlearn.features.aac(X, *, method='relative', remove_zero_cols=False, start=1, ˓→end=None)\n",
        " where i denotes the 20 amino acid residues, ni is the frequency of each residue i, and N is the total number of residues in the sequence.\n",
        "\n",
        "\n",
        "2. AAIndex1-based physicochemical properties.\n",
        "AAindex1 ver.9.2 (release Feb, 2017) is a set of 20 numerical values representing various physicochemical and bio- logical properties of amino acids. Currently, it contains 566 indices, of which 553 contain no NaNs. The indices will be collected for each amino acid in the sequence, then averaged across the sequence.\n",
        "aaindex1 is calculated as follows:\n",
        "\n",
        "∑︀𝑁𝑛=1 (𝐴𝐴𝑖𝑛𝑑𝑒𝑥𝑖(𝑎𝑎𝑛) *𝑎𝑎𝑖𝑛𝑑𝑒𝑥1(𝑖))/ 𝑁\n",
        "\n",
        "where i denotes the 566 AAIndex1 indices, aan denotes the amino acid at position n, and N is the total number of residues in the sequence.\n",
        "\n",
        "3. protlearn.features.atc(X, *, method='relative', start=1, end=None)\n",
        "Atomic and bond composition.\n",
        "\n",
        "This function returns the sum of atomic and bond compositions for each amino acid sequence. The atomic features are comprised of five atoms (C, H, N, O, and S), and the bond features are comprised of total bonds, single bonds, and double bonds.\n",
        "atc is calculated as follows:\n",
        "𝑎𝑡𝑜𝑚𝑠(𝑖) = 𝑛𝑖/𝑁\n",
        "\"\"\"\n"
      ],
      "metadata": {
        "colab": {
          "base_uri": "https://localhost:8080/",
          "height": 628
        },
        "id": "bifpODJBKXu6",
        "outputId": "c21cacf6-9ee0-4a1f-9720-3196dbdef202"
      },
      "execution_count": 5,
      "outputs": [
        {
          "output_type": "stream",
          "name": "stdout",
          "text": [
            "Looking in indexes: https://pypi.org/simple, https://us-python.pkg.dev/colab-wheels/public/simple/\n",
            "Collecting protlearn\n",
            "  Downloading protlearn-0.0.3-py3-none-any.whl (106 kB)\n",
            "\u001b[K     |████████████████████████████████| 106 kB 7.6 MB/s \n",
            "\u001b[?25hRequirement already satisfied: pandas in /usr/local/lib/python3.8/dist-packages (from protlearn) (1.3.5)\n",
            "Requirement already satisfied: xgboost in /usr/local/lib/python3.8/dist-packages (from protlearn) (0.90)\n",
            "Collecting biopython\n",
            "  Downloading biopython-1.80-cp38-cp38-manylinux_2_17_x86_64.manylinux2014_x86_64.whl (3.1 MB)\n",
            "\u001b[K     |████████████████████████████████| 3.1 MB 50.1 MB/s \n",
            "\u001b[?25hRequirement already satisfied: numpy in /usr/local/lib/python3.8/dist-packages (from protlearn) (1.21.6)\n",
            "Requirement already satisfied: scikit-learn in /usr/local/lib/python3.8/dist-packages (from protlearn) (1.0.2)\n",
            "Requirement already satisfied: mlxtend in /usr/local/lib/python3.8/dist-packages (from protlearn) (0.14.0)\n",
            "Requirement already satisfied: setuptools in /usr/local/lib/python3.8/dist-packages (from mlxtend->protlearn) (57.4.0)\n",
            "Requirement already satisfied: matplotlib>=1.5.1 in /usr/local/lib/python3.8/dist-packages (from mlxtend->protlearn) (3.2.2)\n",
            "Requirement already satisfied: scipy>=0.17 in /usr/local/lib/python3.8/dist-packages (from mlxtend->protlearn) (1.7.3)\n",
            "Requirement already satisfied: kiwisolver>=1.0.1 in /usr/local/lib/python3.8/dist-packages (from matplotlib>=1.5.1->mlxtend->protlearn) (1.4.4)\n",
            "Requirement already satisfied: cycler>=0.10 in /usr/local/lib/python3.8/dist-packages (from matplotlib>=1.5.1->mlxtend->protlearn) (0.11.0)\n",
            "Requirement already satisfied: pyparsing!=2.0.4,!=2.1.2,!=2.1.6,>=2.0.1 in /usr/local/lib/python3.8/dist-packages (from matplotlib>=1.5.1->mlxtend->protlearn) (3.0.9)\n",
            "Requirement already satisfied: python-dateutil>=2.1 in /usr/local/lib/python3.8/dist-packages (from matplotlib>=1.5.1->mlxtend->protlearn) (2.8.2)\n",
            "Requirement already satisfied: pytz>=2017.3 in /usr/local/lib/python3.8/dist-packages (from pandas->protlearn) (2022.6)\n",
            "Requirement already satisfied: six>=1.5 in /usr/local/lib/python3.8/dist-packages (from python-dateutil>=2.1->matplotlib>=1.5.1->mlxtend->protlearn) (1.15.0)\n",
            "Requirement already satisfied: threadpoolctl>=2.0.0 in /usr/local/lib/python3.8/dist-packages (from scikit-learn->protlearn) (3.1.0)\n",
            "Requirement already satisfied: joblib>=0.11 in /usr/local/lib/python3.8/dist-packages (from scikit-learn->protlearn) (1.2.0)\n",
            "Installing collected packages: biopython, protlearn\n",
            "Successfully installed biopython-1.80 protlearn-0.0.3\n"
          ]
        },
        {
          "output_type": "execute_result",
          "data": {
            "text/plain": [
              "\"\\nA technique for extracting features from protein sequences is called protolearn. \\nIt is a free Python tool that enables users to effectively extract amino acid sequence features from proteins or peptides. \\nThese features may then be utilized for a range of downstream machine learning tasks. \\nCurrently, protlearn consists of three primary modules: \\n\\ndimension reduction and feature extraction during preprocessing \\nThe Preprocessing area enables the user to prepare the datasets in accordance with certain requirements, such as removing sequences that include unnatural amino acids or changing alphabetical strings into integers. \\nThe dataset's amino acid sequence features, such as amino acid composition or AAIndex-based physicochemical attributes, can then be computed using the Feature Extraction section. \\nProtlearn presently offers 21 such functions in total.\\nThe dimensionality of the computed features can be reduced using feature selection techniques, which lessens redundant computation and lessens the computational load on the classifiers.\\n \\n\\nFrom my research from the protien sequence the important elements we can extract can be done by using the below functions:\\n\\nFunctions Used:\\n\\n1. Amino acid composition: (aac)\\nThis function returns the frequency of amino acids for each sequence in the dataset. aac is calculated as follows:\\n𝑎𝑎𝑐(𝑖) = 𝑛𝑖/N\\n    \\nprotlearn.features.aac(X, *, method='relative', remove_zero_cols=False, start=1, ˓→end=None)\\n where i denotes the 20 amino acid residues, ni is the frequency of each residue i, and N is the total number of residues in the sequence.\\n\\n\\n2. AAIndex1-based physicochemical properties.\\nAAindex1 ver.9.2 (release Feb, 2017) is a set of 20 numerical values representing various physicochemical and bio- logical properties of amino acids. Currently, it contains 566 indices, of which 553 contain no NaNs. The indices will be collected for each amino acid in the sequence, then averaged across the sequence.\\naaindex1 is calculated as follows:\\n\\n∑︀𝑁𝑛=1 (𝐴𝐴𝑖𝑛𝑑𝑒𝑥𝑖(𝑎𝑎𝑛) *𝑎𝑎𝑖𝑛𝑑𝑒𝑥1(𝑖))/ 𝑁\\n\\nwhere i denotes the 566 AAIndex1 indices, aan denotes the amino acid at position n, and N is the total number of residues in the sequence.\\n\\n3. protlearn.features.atc(X, *, method='relative', start=1, end=None)\\nAtomic and bond composition.\\n\\nThis function returns the sum of atomic and bond compositions for each amino acid sequence. The atomic features are comprised of five atoms (C, H, N, O, and S), and the bond features are comprised of total bonds, single bonds, and double bonds.\\natc is calculated as follows:\\n𝑎𝑡𝑜𝑚𝑠(𝑖) = 𝑛𝑖/𝑁\\n\""
            ],
            "application/vnd.google.colaboratory.intrinsic+json": {
              "type": "string"
            }
          },
          "metadata": {},
          "execution_count": 5
        }
      ]
    },
    {
      "cell_type": "code",
      "source": [
        "def data_preprocessing(train_data):\n",
        "  import pandas as pd \n",
        "  def length_of_protien(df):\n",
        "    protien=[]\n",
        "    for i in df[\"protein_sequence\"]:\n",
        "      protien.append(len(i))\n",
        "    return protien \n",
        "    #feature - 2 Entropy \n",
        "\n",
        "  def entropy_finder(df):\n",
        "    entropy=[]\n",
        "    for i in df[\"protein_sequence\"]:\n",
        "      entropy.append(i)\n",
        "    return entropy \n",
        "  def length_of_protien(df):\n",
        "    protien=[]\n",
        "    for i in df[\"protein_sequence\"]:\n",
        "      protien.append(len(i))\n",
        "    return protien \n",
        "  #feature - 3\n",
        "  atoms, bonds = atc(train_data['protein_sequence'].tolist())\n",
        "  comp, aa = aac(train_data['protein_sequence'].tolist())\n",
        "  # Composition in the protien sequences \n",
        "\n",
        "  # Atoms in the protien sequences \n",
        "\n",
        "  # Bonds in the protien sequencs \n",
        "\n",
        "  def Form_a_data(keys,values):\n",
        "    sample_dict = dict()\n",
        "    dict_keys = keys\n",
        "    for i in range(len(dict_keys)):\n",
        "        sample_dict[dict_keys[i]] = [v[i] for v in values]\n",
        "    return pd.DataFrame(sample_dict)\n",
        "  compostion_data=Form_a_data([*aa],comp)\n",
        "  atom_Data=Form_a_data(['Carbon','Hydrogen','Nitrogen','Oxygen','Sulphur'],atoms)\n",
        "  bonds_data=Form_a_data(['total_bonds','single','double'],bonds)\n",
        "  train_data[\"protien_length\"]=length_of_protien(train_data)\n",
        "\n",
        "  train_data[\"entropy\"]=entropy_finder(train_data)\n",
        "\n",
        "  train_data[\"protien_length\"]=length_of_protien(train_data)\n",
        "\n",
        "  main_data=pd.concat([train_data,compostion_data,atom_Data,bonds_data],axis=1)\n",
        "  main_data.drop([\"protein_sequence\",\"data_source\",\"seq_id\"],axis=1,inplace=True)\n",
        "  main_data.drop([\"entropy\"],axis=1,inplace=True)\n",
        "  return main_data\n",
        "main_data=data_preprocessing(train_data)"
      ],
      "metadata": {
        "id": "4-_G1c8sKnyH"
      },
      "execution_count": 6,
      "outputs": []
    },
    {
      "cell_type": "code",
      "source": [
        "main_data.info()"
      ],
      "metadata": {
        "colab": {
          "base_uri": "https://localhost:8080/"
        },
        "id": "6N_bzv-zLAaD",
        "outputId": "6e4e1181-4c39-45a0-8975-090df00bb348"
      },
      "execution_count": 7,
      "outputs": [
        {
          "output_type": "stream",
          "name": "stdout",
          "text": [
            "<class 'pandas.core.frame.DataFrame'>\n",
            "RangeIndex: 31390 entries, 0 to 31389\n",
            "Data columns (total 31 columns):\n",
            " #   Column          Non-Null Count  Dtype  \n",
            "---  ------          --------------  -----  \n",
            " 0   pH              31104 non-null  float64\n",
            " 1   tm              31390 non-null  float64\n",
            " 2   protien_length  31390 non-null  int64  \n",
            " 3   A               31390 non-null  float64\n",
            " 4   C               31390 non-null  float64\n",
            " 5   D               31390 non-null  float64\n",
            " 6   E               31390 non-null  float64\n",
            " 7   F               31390 non-null  float64\n",
            " 8   G               31390 non-null  float64\n",
            " 9   H               31390 non-null  float64\n",
            " 10  I               31390 non-null  float64\n",
            " 11  K               31390 non-null  float64\n",
            " 12  L               31390 non-null  float64\n",
            " 13  M               31390 non-null  float64\n",
            " 14  N               31390 non-null  float64\n",
            " 15  P               31390 non-null  float64\n",
            " 16  Q               31390 non-null  float64\n",
            " 17  R               31390 non-null  float64\n",
            " 18  S               31390 non-null  float64\n",
            " 19  T               31390 non-null  float64\n",
            " 20  V               31390 non-null  float64\n",
            " 21  W               31390 non-null  float64\n",
            " 22  Y               31390 non-null  float64\n",
            " 23  Carbon          31390 non-null  float64\n",
            " 24  Hydrogen        31390 non-null  float64\n",
            " 25  Nitrogen        31390 non-null  float64\n",
            " 26  Oxygen          31390 non-null  float64\n",
            " 27  Sulphur         31390 non-null  float64\n",
            " 28  total_bonds     31390 non-null  float64\n",
            " 29  single          31390 non-null  float64\n",
            " 30  double          31390 non-null  float64\n",
            "dtypes: float64(30), int64(1)\n",
            "memory usage: 7.4 MB\n"
          ]
        }
      ]
    }
  ]
}