{
  "nbformat": 4,
  "nbformat_minor": 0,
  "metadata": {
    "colab": {
      "provenance": []
    },
    "kernelspec": {
      "name": "python3",
      "display_name": "Python 3"
    },
    "language_info": {
      "name": "python"
    }
  },
  "cells": [
    {
      "cell_type": "code",
      "execution_count": 12,
      "metadata": {
        "id": "eQalFf8Oo_a0",
        "colab": {
          "base_uri": "https://localhost:8080/"
        },
        "outputId": "7e775804-fa89-4748-ee18-fc40a44c22ca"
      },
      "outputs": [
        {
          "output_type": "stream",
          "name": "stdout",
          "text": [
            "Looking in indexes: https://pypi.org/simple, https://us-python.pkg.dev/colab-wheels/public/simple/\n",
            "Requirement already satisfied: scikit_optimize in /usr/local/lib/python3.7/dist-packages (0.9.0)\n",
            "Requirement already satisfied: numpy>=1.13.3 in /usr/local/lib/python3.7/dist-packages (from scikit_optimize) (1.21.6)\n",
            "Requirement already satisfied: pyaml>=16.9 in /usr/local/lib/python3.7/dist-packages (from scikit_optimize) (21.10.1)\n",
            "Requirement already satisfied: scikit-learn>=0.20.0 in /usr/local/lib/python3.7/dist-packages (from scikit_optimize) (1.0.2)\n",
            "Requirement already satisfied: joblib>=0.11 in /usr/local/lib/python3.7/dist-packages (from scikit_optimize) (1.2.0)\n",
            "Requirement already satisfied: scipy>=0.19.1 in /usr/local/lib/python3.7/dist-packages (from scikit_optimize) (1.7.3)\n",
            "Requirement already satisfied: PyYAML in /usr/local/lib/python3.7/dist-packages (from pyaml>=16.9->scikit_optimize) (6.0)\n",
            "Requirement already satisfied: threadpoolctl>=2.0.0 in /usr/local/lib/python3.7/dist-packages (from scikit-learn>=0.20.0->scikit_optimize) (3.1.0)\n"
          ]
        }
      ],
      "source": [
        "#modules\n",
        "import matplotlib.pyplot as plt\n",
        "import xgboost as xgb\n",
        "from matplotlib import rcParams\n",
        "from sklearn.model_selection import KFold, cross_val_score, StratifiedKFold\n",
        "from sklearn.model_selection import train_test_split\n",
        "from sklearn.utils import shuffle\n",
        "!pip install scikit_optimize\n",
        "from scipy.stats import spearmanr\n",
        "from skopt.space import Real, Categorical, Integer\n",
        "from sklearn.model_selection import GridSearchCV\n",
        "from skopt import BayesSearchCV\n",
        "seed = 42\n",
        "\n"
      ]
    },
    {
      "cell_type": "code",
      "source": [
        "import pandas as pd\n",
        "\n",
        "train_data=pd.read_csv(\"/content/drive/MyDrive/novozymes-enzyme-stability-prediction/train.csv\")"
      ],
      "metadata": {
        "id": "Toq8quVCprcJ"
      },
      "execution_count": 13,
      "outputs": []
    },
    {
      "cell_type": "code",
      "source": [
        "train_data.info()"
      ],
      "metadata": {
        "colab": {
          "base_uri": "https://localhost:8080/"
        },
        "id": "PvFPzIHTqE5F",
        "outputId": "1a427eed-db44-4b92-dd24-59478ea56cf0"
      },
      "execution_count": 14,
      "outputs": [
        {
          "output_type": "stream",
          "name": "stdout",
          "text": [
            "<class 'pandas.core.frame.DataFrame'>\n",
            "RangeIndex: 31390 entries, 0 to 31389\n",
            "Data columns (total 5 columns):\n",
            " #   Column            Non-Null Count  Dtype  \n",
            "---  ------            --------------  -----  \n",
            " 0   seq_id            31390 non-null  int64  \n",
            " 1   protein_sequence  31390 non-null  object \n",
            " 2   pH                31104 non-null  float64\n",
            " 3   data_source       28043 non-null  object \n",
            " 4   tm                31390 non-null  float64\n",
            "dtypes: float64(2), int64(1), object(2)\n",
            "memory usage: 1.2+ MB\n"
          ]
        }
      ]
    },
    {
      "cell_type": "markdown",
      "source": [
        "#data preprocessing"
      ],
      "metadata": {
        "id": "1k__sQ_Yqel8"
      }
    },
    {
      "cell_type": "code",
      "source": [
        "#feature-1 Length of the protien \n",
        "!pip3 install protlearn\n",
        "import protlearn as pl \n",
        "from protlearn.features import length, entropy, aaindex1, atc, aac\n",
        "\n",
        "# Why Protlearn Module ?\n",
        "\"\"\"\n",
        "A technique for extracting features from protein sequences is called protolearn. \n",
        "It is a free Python tool that enables users to effectively extract amino acid sequence features from proteins or peptides. \n",
        "These features may then be utilized for a range of downstream machine learning tasks. \n",
        "Currently, protlearn consists of three primary modules: \n",
        "\n",
        "dimension reduction and feature extraction during preprocessing \n",
        "The Preprocessing area enables the user to prepare the datasets in accordance with certain requirements, such as removing sequences that include unnatural amino acids or changing alphabetical strings into integers. \n",
        "The dataset's amino acid sequence features, such as amino acid composition or AAIndex-based physicochemical attributes, can then be computed using the Feature Extraction section. \n",
        "Protlearn presently offers 21 such functions in total.\n",
        "The dimensionality of the computed features can be reduced using feature selection techniques, which lessens redundant computation and lessens the computational load on the classifiers.\n",
        " \n",
        "\n",
        "From my research from the protien sequence the important elements we can extract can be done by using the below functions:\n",
        "\n",
        "Functions Used:\n",
        "\n",
        "1. Amino acid composition: (aac)\n",
        "This function returns the frequency of amino acids for each sequence in the dataset. aac is calculated as follows:\n",
        "𝑎𝑎𝑐(𝑖) = 𝑛𝑖/N\n",
        "    \n",
        "protlearn.features.aac(X, *, method='relative', remove_zero_cols=False, start=1, ˓→end=None)\n",
        " where i denotes the 20 amino acid residues, ni is the frequency of each residue i, and N is the total number of residues in the sequence.\n",
        "\n",
        "\n",
        "2. AAIndex1-based physicochemical properties.\n",
        "AAindex1 ver.9.2 (release Feb, 2017) is a set of 20 numerical values representing various physicochemical and bio- logical properties of amino acids. Currently, it contains 566 indices, of which 553 contain no NaNs. The indices will be collected for each amino acid in the sequence, then averaged across the sequence.\n",
        "aaindex1 is calculated as follows:\n",
        "\n",
        "∑︀𝑁𝑛=1 (𝐴𝐴𝑖𝑛𝑑𝑒𝑥𝑖(𝑎𝑎𝑛) *𝑎𝑎𝑖𝑛𝑑𝑒𝑥1(𝑖))/ 𝑁\n",
        "\n",
        "where i denotes the 566 AAIndex1 indices, aan denotes the amino acid at position n, and N is the total number of residues in the sequence.\n",
        "\n",
        "3. protlearn.features.atc(X, *, method='relative', start=1, end=None)\n",
        "Atomic and bond composition.\n",
        "\n",
        "This function returns the sum of atomic and bond compositions for each amino acid sequence. The atomic features are comprised of five atoms (C, H, N, O, and S), and the bond features are comprised of total bonds, single bonds, and double bonds.\n",
        "atc is calculated as follows:\n",
        "𝑎𝑡𝑜𝑚𝑠(𝑖) = 𝑛𝑖/𝑁\n",
        "\"\"\"\n"
      ],
      "metadata": {
        "colab": {
          "base_uri": "https://localhost:8080/",
          "height": 469
        },
        "id": "VuaNGa_6qLSX",
        "outputId": "4053d9e1-2681-4fac-92f0-d5e4e9d99173"
      },
      "execution_count": 15,
      "outputs": [
        {
          "output_type": "stream",
          "name": "stdout",
          "text": [
            "Looking in indexes: https://pypi.org/simple, https://us-python.pkg.dev/colab-wheels/public/simple/\n",
            "Requirement already satisfied: protlearn in /usr/local/lib/python3.7/dist-packages (0.0.3)\n",
            "Requirement already satisfied: pandas in /usr/local/lib/python3.7/dist-packages (from protlearn) (1.3.5)\n",
            "Requirement already satisfied: biopython in /usr/local/lib/python3.7/dist-packages (from protlearn) (1.80)\n",
            "Requirement already satisfied: mlxtend in /usr/local/lib/python3.7/dist-packages (from protlearn) (0.14.0)\n",
            "Requirement already satisfied: xgboost in /usr/local/lib/python3.7/dist-packages (from protlearn) (0.90)\n",
            "Requirement already satisfied: numpy in /usr/local/lib/python3.7/dist-packages (from protlearn) (1.21.6)\n",
            "Requirement already satisfied: scikit-learn in /usr/local/lib/python3.7/dist-packages (from protlearn) (1.0.2)\n",
            "Requirement already satisfied: setuptools in /usr/local/lib/python3.7/dist-packages (from mlxtend->protlearn) (57.4.0)\n",
            "Requirement already satisfied: matplotlib>=1.5.1 in /usr/local/lib/python3.7/dist-packages (from mlxtend->protlearn) (3.2.2)\n",
            "Requirement already satisfied: scipy>=0.17 in /usr/local/lib/python3.7/dist-packages (from mlxtend->protlearn) (1.7.3)\n",
            "Requirement already satisfied: cycler>=0.10 in /usr/local/lib/python3.7/dist-packages (from matplotlib>=1.5.1->mlxtend->protlearn) (0.11.0)\n",
            "Requirement already satisfied: pyparsing!=2.0.4,!=2.1.2,!=2.1.6,>=2.0.1 in /usr/local/lib/python3.7/dist-packages (from matplotlib>=1.5.1->mlxtend->protlearn) (3.0.9)\n",
            "Requirement already satisfied: kiwisolver>=1.0.1 in /usr/local/lib/python3.7/dist-packages (from matplotlib>=1.5.1->mlxtend->protlearn) (1.4.4)\n",
            "Requirement already satisfied: python-dateutil>=2.1 in /usr/local/lib/python3.7/dist-packages (from matplotlib>=1.5.1->mlxtend->protlearn) (2.8.2)\n",
            "Requirement already satisfied: typing-extensions in /usr/local/lib/python3.7/dist-packages (from kiwisolver>=1.0.1->matplotlib>=1.5.1->mlxtend->protlearn) (4.1.1)\n",
            "Requirement already satisfied: pytz>=2017.3 in /usr/local/lib/python3.7/dist-packages (from pandas->protlearn) (2022.6)\n",
            "Requirement already satisfied: six>=1.5 in /usr/local/lib/python3.7/dist-packages (from python-dateutil>=2.1->matplotlib>=1.5.1->mlxtend->protlearn) (1.15.0)\n",
            "Requirement already satisfied: joblib>=0.11 in /usr/local/lib/python3.7/dist-packages (from scikit-learn->protlearn) (1.2.0)\n",
            "Requirement already satisfied: threadpoolctl>=2.0.0 in /usr/local/lib/python3.7/dist-packages (from scikit-learn->protlearn) (3.1.0)\n"
          ]
        },
        {
          "output_type": "execute_result",
          "data": {
            "text/plain": [
              "\"\\nA technique for extracting features from protein sequences is called protolearn. \\nIt is a free Python tool that enables users to effectively extract amino acid sequence features from proteins or peptides. \\nThese features may then be utilized for a range of downstream machine learning tasks. \\nCurrently, protlearn consists of three primary modules: \\n\\ndimension reduction and feature extraction during preprocessing \\nThe Preprocessing area enables the user to prepare the datasets in accordance with certain requirements, such as removing sequences that include unnatural amino acids or changing alphabetical strings into integers. \\nThe dataset's amino acid sequence features, such as amino acid composition or AAIndex-based physicochemical attributes, can then be computed using the Feature Extraction section. \\nProtlearn presently offers 21 such functions in total.\\nThe dimensionality of the computed features can be reduced using feature selection techniques, which lessens redundant computation and lessens the computational load on the classifiers.\\n \\n\\nFrom my research from the protien sequence the important elements we can extract can be done by using the below functions:\\n\\nFunctions Used:\\n\\n1. Amino acid composition: (aac)\\nThis function returns the frequency of amino acids for each sequence in the dataset. aac is calculated as follows:\\n𝑎𝑎𝑐(𝑖) = 𝑛𝑖/N\\n    \\nprotlearn.features.aac(X, *, method='relative', remove_zero_cols=False, start=1, ˓→end=None)\\n where i denotes the 20 amino acid residues, ni is the frequency of each residue i, and N is the total number of residues in the sequence.\\n\\n\\n2. AAIndex1-based physicochemical properties.\\nAAindex1 ver.9.2 (release Feb, 2017) is a set of 20 numerical values representing various physicochemical and bio- logical properties of amino acids. Currently, it contains 566 indices, of which 553 contain no NaNs. The indices will be collected for each amino acid in the sequence, then averaged across the sequence.\\naaindex1 is calculated as follows:\\n\\n∑︀𝑁𝑛=1 (𝐴𝐴𝑖𝑛𝑑𝑒𝑥𝑖(𝑎𝑎𝑛) *𝑎𝑎𝑖𝑛𝑑𝑒𝑥1(𝑖))/ 𝑁\\n\\nwhere i denotes the 566 AAIndex1 indices, aan denotes the amino acid at position n, and N is the total number of residues in the sequence.\\n\\n3. protlearn.features.atc(X, *, method='relative', start=1, end=None)\\nAtomic and bond composition.\\n\\nThis function returns the sum of atomic and bond compositions for each amino acid sequence. The atomic features are comprised of five atoms (C, H, N, O, and S), and the bond features are comprised of total bonds, single bonds, and double bonds.\\natc is calculated as follows:\\n𝑎𝑡𝑜𝑚𝑠(𝑖) = 𝑛𝑖/𝑁\\n\""
            ],
            "application/vnd.google.colaboratory.intrinsic+json": {
              "type": "string"
            }
          },
          "metadata": {},
          "execution_count": 15
        }
      ]
    },
    {
      "cell_type": "code",
      "source": [
        "def data_preprocessing(train_data):\n",
        "  import pandas as pd \n",
        "  def length_of_protien(df):\n",
        "    protien=[]\n",
        "    for i in df[\"protein_sequence\"]:\n",
        "      protien.append(len(i))\n",
        "    return protien \n",
        "    #feature - 2 Entropy \n",
        "\n",
        "  def entropy_finder(df):\n",
        "    entropy=[]\n",
        "    for i in df[\"protein_sequence\"]:\n",
        "      entropy.append(i)\n",
        "    return entropy \n",
        "  def length_of_protien(df):\n",
        "    protien=[]\n",
        "    for i in df[\"protein_sequence\"]:\n",
        "      protien.append(len(i))\n",
        "    return protien \n",
        "  #feature - 3\n",
        "  atoms, bonds = atc(train_data['protein_sequence'].tolist())\n",
        "  comp, aa = aac(train_data['protein_sequence'].tolist())\n",
        "  # Composition in the protien sequences \n",
        "\n",
        "  # Atoms in the protien sequences \n",
        "\n",
        "  # Bonds in the protien sequencs \n",
        "\n",
        "  def Form_a_data(keys,values):\n",
        "    sample_dict = dict()\n",
        "    dict_keys = keys\n",
        "    for i in range(len(dict_keys)):\n",
        "        sample_dict[dict_keys[i]] = [v[i] for v in values]\n",
        "    return pd.DataFrame(sample_dict)\n",
        "  compostion_data=Form_a_data([*aa],comp)\n",
        "  atom_Data=Form_a_data(['Carbon','Hydrogen','Nitrogen','Oxygen','Sulphur'],atoms)\n",
        "  bonds_data=Form_a_data(['total_bonds','single','double'],bonds)\n",
        "  train_data[\"protien_length\"]=length_of_protien(train_data)\n",
        "\n",
        "  train_data[\"entropy\"]=entropy_finder(train_data)\n",
        "\n",
        "  train_data[\"protien_length\"]=length_of_protien(train_data)\n",
        "\n",
        "  main_data=pd.concat([train_data,compostion_data,atom_Data,bonds_data],axis=1)\n",
        "  main_data.drop([\"protein_sequence\",\"data_source\",\"seq_id\"],axis=1,inplace=True)\n",
        "  main_data.drop([\"entropy\"],axis=1,inplace=True)\n",
        "  return main_data\n",
        "main_data=data_preprocessing(train_data)\n",
        "  "
      ],
      "metadata": {
        "id": "rqmcHTJPUgwr"
      },
      "execution_count": 69,
      "outputs": []
    },
    {
      "cell_type": "code",
      "source": [
        "main_data.info()"
      ],
      "metadata": {
        "colab": {
          "base_uri": "https://localhost:8080/"
        },
        "id": "ynk3nGbtZdU5",
        "outputId": "a54c31be-70dd-45de-a9da-8bc21d98f8af"
      },
      "execution_count": 70,
      "outputs": [
        {
          "output_type": "stream",
          "name": "stdout",
          "text": [
            "<class 'pandas.core.frame.DataFrame'>\n",
            "RangeIndex: 31390 entries, 0 to 31389\n",
            "Data columns (total 31 columns):\n",
            " #   Column          Non-Null Count  Dtype  \n",
            "---  ------          --------------  -----  \n",
            " 0   pH              31104 non-null  float64\n",
            " 1   tm              31390 non-null  float64\n",
            " 2   protien_length  31390 non-null  int64  \n",
            " 3   A               31390 non-null  float64\n",
            " 4   C               31390 non-null  float64\n",
            " 5   D               31390 non-null  float64\n",
            " 6   E               31390 non-null  float64\n",
            " 7   F               31390 non-null  float64\n",
            " 8   G               31390 non-null  float64\n",
            " 9   H               31390 non-null  float64\n",
            " 10  I               31390 non-null  float64\n",
            " 11  K               31390 non-null  float64\n",
            " 12  L               31390 non-null  float64\n",
            " 13  M               31390 non-null  float64\n",
            " 14  N               31390 non-null  float64\n",
            " 15  P               31390 non-null  float64\n",
            " 16  Q               31390 non-null  float64\n",
            " 17  R               31390 non-null  float64\n",
            " 18  S               31390 non-null  float64\n",
            " 19  T               31390 non-null  float64\n",
            " 20  V               31390 non-null  float64\n",
            " 21  W               31390 non-null  float64\n",
            " 22  Y               31390 non-null  float64\n",
            " 23  Carbon          31390 non-null  float64\n",
            " 24  Hydrogen        31390 non-null  float64\n",
            " 25  Nitrogen        31390 non-null  float64\n",
            " 26  Oxygen          31390 non-null  float64\n",
            " 27  Sulphur         31390 non-null  float64\n",
            " 28  total_bonds     31390 non-null  float64\n",
            " 29  single          31390 non-null  float64\n",
            " 30  double          31390 non-null  float64\n",
            "dtypes: float64(30), int64(1)\n",
            "memory usage: 7.4 MB\n"
          ]
        }
      ]
    },
    {
      "cell_type": "code",
      "source": [
        "main_data.info()"
      ],
      "metadata": {
        "colab": {
          "base_uri": "https://localhost:8080/"
        },
        "id": "kYieBwdneH9O",
        "outputId": "7280ace9-775b-443c-eb24-6af2dfaced03"
      },
      "execution_count": 72,
      "outputs": [
        {
          "output_type": "stream",
          "name": "stdout",
          "text": [
            "<class 'pandas.core.frame.DataFrame'>\n",
            "RangeIndex: 31390 entries, 0 to 31389\n",
            "Data columns (total 31 columns):\n",
            " #   Column          Non-Null Count  Dtype  \n",
            "---  ------          --------------  -----  \n",
            " 0   pH              31104 non-null  float64\n",
            " 1   tm              31390 non-null  float64\n",
            " 2   protien_length  31390 non-null  int64  \n",
            " 3   A               31390 non-null  float64\n",
            " 4   C               31390 non-null  float64\n",
            " 5   D               31390 non-null  float64\n",
            " 6   E               31390 non-null  float64\n",
            " 7   F               31390 non-null  float64\n",
            " 8   G               31390 non-null  float64\n",
            " 9   H               31390 non-null  float64\n",
            " 10  I               31390 non-null  float64\n",
            " 11  K               31390 non-null  float64\n",
            " 12  L               31390 non-null  float64\n",
            " 13  M               31390 non-null  float64\n",
            " 14  N               31390 non-null  float64\n",
            " 15  P               31390 non-null  float64\n",
            " 16  Q               31390 non-null  float64\n",
            " 17  R               31390 non-null  float64\n",
            " 18  S               31390 non-null  float64\n",
            " 19  T               31390 non-null  float64\n",
            " 20  V               31390 non-null  float64\n",
            " 21  W               31390 non-null  float64\n",
            " 22  Y               31390 non-null  float64\n",
            " 23  Carbon          31390 non-null  float64\n",
            " 24  Hydrogen        31390 non-null  float64\n",
            " 25  Nitrogen        31390 non-null  float64\n",
            " 26  Oxygen          31390 non-null  float64\n",
            " 27  Sulphur         31390 non-null  float64\n",
            " 28  total_bonds     31390 non-null  float64\n",
            " 29  single          31390 non-null  float64\n",
            " 30  double          31390 non-null  float64\n",
            "dtypes: float64(30), int64(1)\n",
            "memory usage: 7.4 MB\n"
          ]
        }
      ]
    },
    {
      "cell_type": "code",
      "source": [],
      "metadata": {
        "id": "tdxjaJ_9Z_a9"
      },
      "execution_count": 72,
      "outputs": []
    },
    {
      "cell_type": "code",
      "source": [
        "def train_the_model(main_data1):\n",
        "  import xgboost as xgb\n",
        "  from hyperopt import STATUS_OK, Trials, fmin, hp, tpe\n",
        "  from sklearn.model_selection import train_test_split\n",
        "\n",
        "  y=main_data1[\"tm\"]\n",
        "  main_data1.drop([\"tm\"],axis=1,inplace=True)\n",
        "  X=main_data1\n",
        "\n",
        "  from sklearn.model_selection import train_test_split\n",
        "\n",
        "  import numpy as np\n",
        "\n",
        "  X_train, X_test, y_train, y_test = train_test_split(X, y, test_size = 0.3, random_state = 0)\n",
        "\n",
        "  search_spaces = { 'max_depth': [3, 5, 6, 10, 15, 20],\n",
        "           'learning_rate': [0.01, 0.1, 0.2, 0.3],\n",
        "           'subsample': np.arange(0.5, 1.0, 0.1),\n",
        "           'colsample_bytree': np.arange(0.4, 1.0, 0.1),\n",
        "           'colsample_bylevel': np.arange(0.4, 1.0, 0.1),\n",
        "           'n_estimators': [100, 500, 1000]}\n",
        "  def trainer(X_train,y_train,X_test,y_test,search_spaces):\n",
        "\n",
        "      from sklearn.model_selection import RandomizedSearchCV\n",
        "\n",
        "      xgbr = xgb.XGBRegressor(seed = 20)\n",
        "      clf = RandomizedSearchCV(estimator=xgbr,\n",
        "                         param_distributions=search_spaces,\n",
        "                         scoring='neg_mean_squared_error',\n",
        "                         n_iter=25,\n",
        "                         verbose=1)\n",
        "      \n",
        "      clf.fit(X_train, y_train)\n",
        "      print(\"Best parameters:\", clf.best_params_)\n",
        "      print(\"Lowest RMSE: \", (-clf.best_score_)**(1/2.0))\n",
        "\n",
        "      y_pred = pred = clf.predict(X_test) \n",
        "\n",
        "      trials = Trials()\n",
        "      return y_test,y_pred\n",
        "  y_test,y_pred=trainer(X_train,y_train,X_test,y_test,search_spaces)\n",
        "  return y_test,y_pred\n",
        "main_data1=main_data\n",
        "original_tester,predicted_tester = train_the_model(main_data1)"
      ],
      "metadata": {
        "colab": {
          "base_uri": "https://localhost:8080/"
        },
        "id": "32S0ORP_uCfK",
        "outputId": "e4fc64ef-54b2-4308-8a1b-d6a0921b2ee3"
      },
      "execution_count": 73,
      "outputs": [
        {
          "output_type": "stream",
          "name": "stdout",
          "text": [
            "Fitting 5 folds for each of 25 candidates, totalling 125 fits\n",
            "[17:28:14] WARNING: /workspace/src/objective/regression_obj.cu:152: reg:linear is now deprecated in favor of reg:squarederror.\n",
            "[17:28:18] WARNING: /workspace/src/objective/regression_obj.cu:152: reg:linear is now deprecated in favor of reg:squarederror.\n",
            "[17:28:22] WARNING: /workspace/src/objective/regression_obj.cu:152: reg:linear is now deprecated in favor of reg:squarederror.\n",
            "[17:28:25] WARNING: /workspace/src/objective/regression_obj.cu:152: reg:linear is now deprecated in favor of reg:squarederror.\n",
            "[17:28:29] WARNING: /workspace/src/objective/regression_obj.cu:152: reg:linear is now deprecated in favor of reg:squarederror.\n",
            "[17:28:32] WARNING: /workspace/src/objective/regression_obj.cu:152: reg:linear is now deprecated in favor of reg:squarederror.\n",
            "[17:28:44] WARNING: /workspace/src/objective/regression_obj.cu:152: reg:linear is now deprecated in favor of reg:squarederror.\n",
            "[17:28:56] WARNING: /workspace/src/objective/regression_obj.cu:152: reg:linear is now deprecated in favor of reg:squarederror.\n",
            "[17:29:10] WARNING: /workspace/src/objective/regression_obj.cu:152: reg:linear is now deprecated in favor of reg:squarederror.\n",
            "[17:29:22] WARNING: /workspace/src/objective/regression_obj.cu:152: reg:linear is now deprecated in favor of reg:squarederror.\n",
            "[17:29:33] WARNING: /workspace/src/objective/regression_obj.cu:152: reg:linear is now deprecated in favor of reg:squarederror.\n",
            "[17:29:35] WARNING: /workspace/src/objective/regression_obj.cu:152: reg:linear is now deprecated in favor of reg:squarederror.\n",
            "[17:29:36] WARNING: /workspace/src/objective/regression_obj.cu:152: reg:linear is now deprecated in favor of reg:squarederror.\n",
            "[17:29:38] WARNING: /workspace/src/objective/regression_obj.cu:152: reg:linear is now deprecated in favor of reg:squarederror.\n",
            "[17:29:39] WARNING: /workspace/src/objective/regression_obj.cu:152: reg:linear is now deprecated in favor of reg:squarederror.\n",
            "[17:29:40] WARNING: /workspace/src/objective/regression_obj.cu:152: reg:linear is now deprecated in favor of reg:squarederror.\n",
            "[17:29:43] WARNING: /workspace/src/objective/regression_obj.cu:152: reg:linear is now deprecated in favor of reg:squarederror.\n",
            "[17:29:46] WARNING: /workspace/src/objective/regression_obj.cu:152: reg:linear is now deprecated in favor of reg:squarederror.\n",
            "[17:29:48] WARNING: /workspace/src/objective/regression_obj.cu:152: reg:linear is now deprecated in favor of reg:squarederror.\n",
            "[17:29:51] WARNING: /workspace/src/objective/regression_obj.cu:152: reg:linear is now deprecated in favor of reg:squarederror.\n",
            "[17:29:53] WARNING: /workspace/src/objective/regression_obj.cu:152: reg:linear is now deprecated in favor of reg:squarederror.\n",
            "[17:30:37] WARNING: /workspace/src/objective/regression_obj.cu:152: reg:linear is now deprecated in favor of reg:squarederror.\n",
            "[17:31:22] WARNING: /workspace/src/objective/regression_obj.cu:152: reg:linear is now deprecated in favor of reg:squarederror.\n",
            "[17:32:08] WARNING: /workspace/src/objective/regression_obj.cu:152: reg:linear is now deprecated in favor of reg:squarederror.\n",
            "[17:32:51] WARNING: /workspace/src/objective/regression_obj.cu:152: reg:linear is now deprecated in favor of reg:squarederror.\n",
            "[17:33:35] WARNING: /workspace/src/objective/regression_obj.cu:152: reg:linear is now deprecated in favor of reg:squarederror.\n",
            "[17:35:44] WARNING: /workspace/src/objective/regression_obj.cu:152: reg:linear is now deprecated in favor of reg:squarederror.\n",
            "[17:37:54] WARNING: /workspace/src/objective/regression_obj.cu:152: reg:linear is now deprecated in favor of reg:squarederror.\n",
            "[17:40:02] WARNING: /workspace/src/objective/regression_obj.cu:152: reg:linear is now deprecated in favor of reg:squarederror.\n",
            "[17:42:12] WARNING: /workspace/src/objective/regression_obj.cu:152: reg:linear is now deprecated in favor of reg:squarederror.\n",
            "[17:44:23] WARNING: /workspace/src/objective/regression_obj.cu:152: reg:linear is now deprecated in favor of reg:squarederror.\n",
            "[17:44:25] WARNING: /workspace/src/objective/regression_obj.cu:152: reg:linear is now deprecated in favor of reg:squarederror.\n",
            "[17:44:28] WARNING: /workspace/src/objective/regression_obj.cu:152: reg:linear is now deprecated in favor of reg:squarederror.\n",
            "[17:44:30] WARNING: /workspace/src/objective/regression_obj.cu:152: reg:linear is now deprecated in favor of reg:squarederror.\n",
            "[17:44:32] WARNING: /workspace/src/objective/regression_obj.cu:152: reg:linear is now deprecated in favor of reg:squarederror.\n",
            "[17:44:34] WARNING: /workspace/src/objective/regression_obj.cu:152: reg:linear is now deprecated in favor of reg:squarederror.\n",
            "[17:45:11] WARNING: /workspace/src/objective/regression_obj.cu:152: reg:linear is now deprecated in favor of reg:squarederror.\n",
            "[17:45:48] WARNING: /workspace/src/objective/regression_obj.cu:152: reg:linear is now deprecated in favor of reg:squarederror.\n",
            "[17:46:25] WARNING: /workspace/src/objective/regression_obj.cu:152: reg:linear is now deprecated in favor of reg:squarederror.\n",
            "[17:47:02] WARNING: /workspace/src/objective/regression_obj.cu:152: reg:linear is now deprecated in favor of reg:squarederror.\n",
            "[17:47:40] WARNING: /workspace/src/objective/regression_obj.cu:152: reg:linear is now deprecated in favor of reg:squarederror.\n",
            "[17:47:42] WARNING: /workspace/src/objective/regression_obj.cu:152: reg:linear is now deprecated in favor of reg:squarederror.\n",
            "[17:47:44] WARNING: /workspace/src/objective/regression_obj.cu:152: reg:linear is now deprecated in favor of reg:squarederror.\n",
            "[17:47:46] WARNING: /workspace/src/objective/regression_obj.cu:152: reg:linear is now deprecated in favor of reg:squarederror.\n",
            "[17:47:48] WARNING: /workspace/src/objective/regression_obj.cu:152: reg:linear is now deprecated in favor of reg:squarederror.\n",
            "[17:47:50] WARNING: /workspace/src/objective/regression_obj.cu:152: reg:linear is now deprecated in favor of reg:squarederror.\n",
            "[17:47:52] WARNING: /workspace/src/objective/regression_obj.cu:152: reg:linear is now deprecated in favor of reg:squarederror.\n",
            "[17:47:54] WARNING: /workspace/src/objective/regression_obj.cu:152: reg:linear is now deprecated in favor of reg:squarederror.\n",
            "[17:47:55] WARNING: /workspace/src/objective/regression_obj.cu:152: reg:linear is now deprecated in favor of reg:squarederror.\n",
            "[17:47:57] WARNING: /workspace/src/objective/regression_obj.cu:152: reg:linear is now deprecated in favor of reg:squarederror.\n",
            "[17:47:59] WARNING: /workspace/src/objective/regression_obj.cu:152: reg:linear is now deprecated in favor of reg:squarederror.\n",
            "[17:48:02] WARNING: /workspace/src/objective/regression_obj.cu:152: reg:linear is now deprecated in favor of reg:squarederror.\n",
            "[17:48:06] WARNING: /workspace/src/objective/regression_obj.cu:152: reg:linear is now deprecated in favor of reg:squarederror.\n",
            "[17:48:10] WARNING: /workspace/src/objective/regression_obj.cu:152: reg:linear is now deprecated in favor of reg:squarederror.\n",
            "[17:48:13] WARNING: /workspace/src/objective/regression_obj.cu:152: reg:linear is now deprecated in favor of reg:squarederror.\n",
            "[17:48:17] WARNING: /workspace/src/objective/regression_obj.cu:152: reg:linear is now deprecated in favor of reg:squarederror.\n",
            "[17:49:20] WARNING: /workspace/src/objective/regression_obj.cu:152: reg:linear is now deprecated in favor of reg:squarederror.\n",
            "[17:50:24] WARNING: /workspace/src/objective/regression_obj.cu:152: reg:linear is now deprecated in favor of reg:squarederror.\n",
            "[17:51:28] WARNING: /workspace/src/objective/regression_obj.cu:152: reg:linear is now deprecated in favor of reg:squarederror.\n",
            "[17:52:30] WARNING: /workspace/src/objective/regression_obj.cu:152: reg:linear is now deprecated in favor of reg:squarederror.\n",
            "[17:53:33] WARNING: /workspace/src/objective/regression_obj.cu:152: reg:linear is now deprecated in favor of reg:squarederror.\n",
            "[17:54:24] WARNING: /workspace/src/objective/regression_obj.cu:152: reg:linear is now deprecated in favor of reg:squarederror.\n",
            "[17:55:14] WARNING: /workspace/src/objective/regression_obj.cu:152: reg:linear is now deprecated in favor of reg:squarederror.\n",
            "[17:56:05] WARNING: /workspace/src/objective/regression_obj.cu:152: reg:linear is now deprecated in favor of reg:squarederror.\n",
            "[17:56:55] WARNING: /workspace/src/objective/regression_obj.cu:152: reg:linear is now deprecated in favor of reg:squarederror.\n",
            "[17:57:46] WARNING: /workspace/src/objective/regression_obj.cu:152: reg:linear is now deprecated in favor of reg:squarederror.\n",
            "[17:58:10] WARNING: /workspace/src/objective/regression_obj.cu:152: reg:linear is now deprecated in favor of reg:squarederror.\n",
            "[17:58:34] WARNING: /workspace/src/objective/regression_obj.cu:152: reg:linear is now deprecated in favor of reg:squarederror.\n",
            "[17:58:58] WARNING: /workspace/src/objective/regression_obj.cu:152: reg:linear is now deprecated in favor of reg:squarederror.\n",
            "[17:59:22] WARNING: /workspace/src/objective/regression_obj.cu:152: reg:linear is now deprecated in favor of reg:squarederror.\n",
            "[17:59:46] WARNING: /workspace/src/objective/regression_obj.cu:152: reg:linear is now deprecated in favor of reg:squarederror.\n",
            "[17:59:47] WARNING: /workspace/src/objective/regression_obj.cu:152: reg:linear is now deprecated in favor of reg:squarederror.\n",
            "[17:59:49] WARNING: /workspace/src/objective/regression_obj.cu:152: reg:linear is now deprecated in favor of reg:squarederror.\n",
            "[17:59:50] WARNING: /workspace/src/objective/regression_obj.cu:152: reg:linear is now deprecated in favor of reg:squarederror.\n",
            "[17:59:52] WARNING: /workspace/src/objective/regression_obj.cu:152: reg:linear is now deprecated in favor of reg:squarederror.\n",
            "[17:59:53] WARNING: /workspace/src/objective/regression_obj.cu:152: reg:linear is now deprecated in favor of reg:squarederror.\n",
            "[18:00:55] WARNING: /workspace/src/objective/regression_obj.cu:152: reg:linear is now deprecated in favor of reg:squarederror.\n",
            "[18:01:56] WARNING: /workspace/src/objective/regression_obj.cu:152: reg:linear is now deprecated in favor of reg:squarederror.\n",
            "[18:02:58] WARNING: /workspace/src/objective/regression_obj.cu:152: reg:linear is now deprecated in favor of reg:squarederror.\n",
            "[18:03:59] WARNING: /workspace/src/objective/regression_obj.cu:152: reg:linear is now deprecated in favor of reg:squarederror.\n",
            "[18:05:02] WARNING: /workspace/src/objective/regression_obj.cu:152: reg:linear is now deprecated in favor of reg:squarederror.\n",
            "[18:05:39] WARNING: /workspace/src/objective/regression_obj.cu:152: reg:linear is now deprecated in favor of reg:squarederror.\n",
            "[18:06:16] WARNING: /workspace/src/objective/regression_obj.cu:152: reg:linear is now deprecated in favor of reg:squarederror.\n",
            "[18:06:53] WARNING: /workspace/src/objective/regression_obj.cu:152: reg:linear is now deprecated in favor of reg:squarederror.\n",
            "[18:07:32] WARNING: /workspace/src/objective/regression_obj.cu:152: reg:linear is now deprecated in favor of reg:squarederror.\n",
            "[18:08:09] WARNING: /workspace/src/objective/regression_obj.cu:152: reg:linear is now deprecated in favor of reg:squarederror.\n",
            "[18:08:14] WARNING: /workspace/src/objective/regression_obj.cu:152: reg:linear is now deprecated in favor of reg:squarederror.\n",
            "[18:08:19] WARNING: /workspace/src/objective/regression_obj.cu:152: reg:linear is now deprecated in favor of reg:squarederror.\n",
            "[18:08:24] WARNING: /workspace/src/objective/regression_obj.cu:152: reg:linear is now deprecated in favor of reg:squarederror.\n",
            "[18:08:29] WARNING: /workspace/src/objective/regression_obj.cu:152: reg:linear is now deprecated in favor of reg:squarederror.\n",
            "[18:08:34] WARNING: /workspace/src/objective/regression_obj.cu:152: reg:linear is now deprecated in favor of reg:squarederror.\n",
            "[18:11:02] WARNING: /workspace/src/objective/regression_obj.cu:152: reg:linear is now deprecated in favor of reg:squarederror.\n",
            "[18:13:32] WARNING: /workspace/src/objective/regression_obj.cu:152: reg:linear is now deprecated in favor of reg:squarederror.\n",
            "[18:16:01] WARNING: /workspace/src/objective/regression_obj.cu:152: reg:linear is now deprecated in favor of reg:squarederror.\n",
            "[18:18:29] WARNING: /workspace/src/objective/regression_obj.cu:152: reg:linear is now deprecated in favor of reg:squarederror.\n",
            "[18:21:00] WARNING: /workspace/src/objective/regression_obj.cu:152: reg:linear is now deprecated in favor of reg:squarederror.\n",
            "[18:21:53] WARNING: /workspace/src/objective/regression_obj.cu:152: reg:linear is now deprecated in favor of reg:squarederror.\n",
            "[18:22:47] WARNING: /workspace/src/objective/regression_obj.cu:152: reg:linear is now deprecated in favor of reg:squarederror.\n",
            "[18:23:41] WARNING: /workspace/src/objective/regression_obj.cu:152: reg:linear is now deprecated in favor of reg:squarederror.\n",
            "[18:24:34] WARNING: /workspace/src/objective/regression_obj.cu:152: reg:linear is now deprecated in favor of reg:squarederror.\n",
            "[18:25:27] WARNING: /workspace/src/objective/regression_obj.cu:152: reg:linear is now deprecated in favor of reg:squarederror.\n",
            "[18:25:33] WARNING: /workspace/src/objective/regression_obj.cu:152: reg:linear is now deprecated in favor of reg:squarederror.\n",
            "[18:25:40] WARNING: /workspace/src/objective/regression_obj.cu:152: reg:linear is now deprecated in favor of reg:squarederror.\n",
            "[18:25:47] WARNING: /workspace/src/objective/regression_obj.cu:152: reg:linear is now deprecated in favor of reg:squarederror.\n",
            "[18:25:54] WARNING: /workspace/src/objective/regression_obj.cu:152: reg:linear is now deprecated in favor of reg:squarederror.\n",
            "[18:26:02] WARNING: /workspace/src/objective/regression_obj.cu:152: reg:linear is now deprecated in favor of reg:squarederror.\n",
            "[18:26:43] WARNING: /workspace/src/objective/regression_obj.cu:152: reg:linear is now deprecated in favor of reg:squarederror.\n",
            "[18:27:23] WARNING: /workspace/src/objective/regression_obj.cu:152: reg:linear is now deprecated in favor of reg:squarederror.\n",
            "[18:28:04] WARNING: /workspace/src/objective/regression_obj.cu:152: reg:linear is now deprecated in favor of reg:squarederror.\n",
            "[18:28:44] WARNING: /workspace/src/objective/regression_obj.cu:152: reg:linear is now deprecated in favor of reg:squarederror.\n",
            "[18:29:25] WARNING: /workspace/src/objective/regression_obj.cu:152: reg:linear is now deprecated in favor of reg:squarederror.\n",
            "[18:29:36] WARNING: /workspace/src/objective/regression_obj.cu:152: reg:linear is now deprecated in favor of reg:squarederror.\n",
            "[18:29:48] WARNING: /workspace/src/objective/regression_obj.cu:152: reg:linear is now deprecated in favor of reg:squarederror.\n",
            "[18:29:59] WARNING: /workspace/src/objective/regression_obj.cu:152: reg:linear is now deprecated in favor of reg:squarederror.\n",
            "[18:30:11] WARNING: /workspace/src/objective/regression_obj.cu:152: reg:linear is now deprecated in favor of reg:squarederror.\n",
            "[18:30:22] WARNING: /workspace/src/objective/regression_obj.cu:152: reg:linear is now deprecated in favor of reg:squarederror.\n",
            "[18:30:36] WARNING: /workspace/src/objective/regression_obj.cu:152: reg:linear is now deprecated in favor of reg:squarederror.\n",
            "[18:30:50] WARNING: /workspace/src/objective/regression_obj.cu:152: reg:linear is now deprecated in favor of reg:squarederror.\n",
            "[18:31:04] WARNING: /workspace/src/objective/regression_obj.cu:152: reg:linear is now deprecated in favor of reg:squarederror.\n",
            "[18:31:18] WARNING: /workspace/src/objective/regression_obj.cu:152: reg:linear is now deprecated in favor of reg:squarederror.\n",
            "[18:31:32] WARNING: /workspace/src/objective/regression_obj.cu:152: reg:linear is now deprecated in favor of reg:squarederror.\n",
            "[18:31:34] WARNING: /workspace/src/objective/regression_obj.cu:152: reg:linear is now deprecated in favor of reg:squarederror.\n",
            "[18:31:36] WARNING: /workspace/src/objective/regression_obj.cu:152: reg:linear is now deprecated in favor of reg:squarederror.\n",
            "[18:31:39] WARNING: /workspace/src/objective/regression_obj.cu:152: reg:linear is now deprecated in favor of reg:squarederror.\n",
            "[18:31:41] WARNING: /workspace/src/objective/regression_obj.cu:152: reg:linear is now deprecated in favor of reg:squarederror.\n",
            "[18:31:44] WARNING: /workspace/src/objective/regression_obj.cu:152: reg:linear is now deprecated in favor of reg:squarederror.\n",
            "Best parameters: {'subsample': 0.6, 'n_estimators': 1000, 'max_depth': 10, 'learning_rate': 0.01, 'colsample_bytree': 0.5, 'colsample_bylevel': 0.7}\n",
            "Lowest RMSE:  8.734206281768603\n"
          ]
        }
      ]
    },
    {
      "cell_type": "markdown",
      "source": [
        "# XG BOOST REGRESSOR :\n",
        "\n",
        "A class of ensemble machine learning methods known as gradient boosting can be applied to classification or regression predictive modeling issues. \n",
        "\n",
        "Decision tree models are used to build ensembles. In order to repair the prediction mistakes caused by earlier models, trees are added one at a time to the ensemble and fitted. Boosting is a term used to describe this kind of ensemble machine learning model. \n",
        "\n",
        "Any arbitrary differentiable loss function and the gradient descent optimization procedure are used to fit the models. Gradient boosting gets its name from this because as the model is fitted, it minimizes the loss gradient, much like a neural network.\n",
        "\n",
        "Execution speed and model performance are the two primary benefits of using XGBoost. \n",
        "\n",
        "On structured or tabular datasets for classification and regression predictive modeling issues, XGBoost is dominant. The fact that it is the preferred method for contest winners on the Kaggle platform for competitive data science serves as proof. \n",
        "\n",
        "The following are the most typical configurations for hyperparameters: \n",
        "\n",
        "The number of trees in the ensemble, which is frequently raised until no additional gains are observed, is called n estimators. \n",
        "\n",
        "max depth: Each tree's maximum depth, typically between 1 and 10. \n",
        "\n",
        "eta: The learning rate applied to weight each model, \n",
        "\n",
        "frequently set to tiny values like 0.3, 0.1, or 0.01.\n",
        " \n",
        "the number of samples (rows) in each tree that is set to a value between 0 and 1.\n",
        "\n",
        "Colsample_bytree: Number of features (columns) used in each tree, set to a value between 0 and 1, often 1.0 to use all features.\n",
        "\n"
      ],
      "metadata": {
        "id": "555WXaqfEk_m"
      }
    },
    {
      "cell_type": "code",
      "source": [
        "train_data=pd.read_csv(\"/content/drive/MyDrive/novozymes-enzyme-stability-prediction/train.csv\")\n",
        "main_data=data_preprocessing(train_data)\n",
        "def final_model(main_data1):\n",
        "  y=main_data1[\"tm\"]\n",
        "  main_data1.drop([\"tm\"],axis=1,inplace=True)\n",
        "  X=main_data1\n",
        "\n",
        "  from sklearn.model_selection import train_test_split\n",
        "\n",
        "  import numpy as np\n",
        "\n",
        "  X_train, X_test, y_train, y_test = train_test_split(X, y, test_size = 0.3, random_state = 0)\n",
        "  final_model = xgb.XGBRegressor(seed = 20, n_estimators = 1000, max_depth = 10, learning_rate = 0.01, colsample_bytree = 0.5, colsample_bylevel =0.7)\n",
        "  final_model.fit(X_train, y_train)\n",
        "  y_pred = pred = final_model.predict(X_test) \n",
        "  return final_model \n",
        "regressor_model=final_model(main_data)"
      ],
      "metadata": {
        "colab": {
          "base_uri": "https://localhost:8080/"
        },
        "id": "WWoBCoQnuO8F",
        "outputId": "bbf0e111-8cc3-48d8-c879-0c909bfa68ed"
      },
      "execution_count": 80,
      "outputs": [
        {
          "output_type": "stream",
          "name": "stdout",
          "text": [
            "[19:40:56] WARNING: /workspace/src/objective/regression_obj.cu:152: reg:linear is now deprecated in favor of reg:squarederror.\n"
          ]
        }
      ]
    },
    {
      "cell_type": "code",
      "source": [
        "def evaluvation_metrics(y_test,y_pred):\n",
        "  from sklearn.metrics import mean_absolute_error\n",
        "  from sklearn.metrics import mean_squared_error\n",
        "  from sklearn.metrics import r2_score\n",
        "  import numpy as np \n",
        "  print(\"*\"*20)\n",
        "  print(\"*\"*8,\" Evaluvation Scores \",\"*\"*8)\n",
        "  print(\"\\nMean Absolute Error : \",mean_absolute_error(y_test,y_pred))\n",
        "  print(\"\\nMean Squared Error : \",mean_squared_error(y_test,y_pred))\n",
        "  print(\"\\nRoot Mean Squared Error : \",np.sqrt(mean_squared_error(y_test,y_pred)))\n",
        "  print(\"\\nR Squared Score : \",r2_score(y_test,y_pred))\n",
        "evaluvation_metrics(original_tester,predicted_tester)"
      ],
      "metadata": {
        "colab": {
          "base_uri": "https://localhost:8080/"
        },
        "id": "D3SO8ErI_6Y1",
        "outputId": "198c61b4-7845-4d1e-fca0-c8bd0e844b4b"
      },
      "execution_count": 74,
      "outputs": [
        {
          "output_type": "stream",
          "name": "stdout",
          "text": [
            "********************\n",
            "********  Evaluvation Scores  ********\n",
            "\n",
            "Mean Absolute Error :  6.044688573561619\n",
            "\n",
            "Mean Squared Error :  73.4385597517905\n",
            "\n",
            "Root Mean Squared Error :  8.569630082552601\n",
            "\n",
            "R Squared Score :  0.6083250378066907\n"
          ]
        }
      ]
    },
    {
      "cell_type": "markdown",
      "source": [
        "#Testing using the test.csv file"
      ],
      "metadata": {
        "id": "XMCw2Js2CHyj"
      }
    },
    {
      "cell_type": "code",
      "source": [
        "import pandas as pd \n",
        "test_data=pd.read_csv(\"/content/drive/MyDrive/novozymes-enzyme-stability-prediction/test.csv\")\n",
        "test_data.info()"
      ],
      "metadata": {
        "colab": {
          "base_uri": "https://localhost:8080/"
        },
        "id": "4-AT9eWDCOJT",
        "outputId": "880ccfcc-f88c-47b3-89c8-4be835046553"
      },
      "execution_count": 75,
      "outputs": [
        {
          "output_type": "stream",
          "name": "stdout",
          "text": [
            "<class 'pandas.core.frame.DataFrame'>\n",
            "RangeIndex: 2413 entries, 0 to 2412\n",
            "Data columns (total 4 columns):\n",
            " #   Column            Non-Null Count  Dtype \n",
            "---  ------            --------------  ----- \n",
            " 0   seq_id            2413 non-null   int64 \n",
            " 1   protein_sequence  2413 non-null   object\n",
            " 2   pH                2413 non-null   int64 \n",
            " 3   data_source       2413 non-null   object\n",
            "dtypes: int64(2), object(2)\n",
            "memory usage: 75.5+ KB\n"
          ]
        }
      ]
    },
    {
      "cell_type": "code",
      "source": [
        "#Now access data preprocessing unit using (data_preprocessing function)\n",
        "test_data = data_preprocessing(test_data)"
      ],
      "metadata": {
        "id": "otZg_IXwyw6v"
      },
      "execution_count": 76,
      "outputs": []
    },
    {
      "cell_type": "code",
      "source": [
        "test_data.info()"
      ],
      "metadata": {
        "colab": {
          "base_uri": "https://localhost:8080/"
        },
        "id": "g8cFlgSbD-pk",
        "outputId": "400085ca-05c6-4409-bce2-c002f627d477"
      },
      "execution_count": 81,
      "outputs": [
        {
          "output_type": "stream",
          "name": "stdout",
          "text": [
            "<class 'pandas.core.frame.DataFrame'>\n",
            "RangeIndex: 2413 entries, 0 to 2412\n",
            "Data columns (total 30 columns):\n",
            " #   Column          Non-Null Count  Dtype  \n",
            "---  ------          --------------  -----  \n",
            " 0   pH              2413 non-null   int64  \n",
            " 1   protien_length  2413 non-null   int64  \n",
            " 2   A               2413 non-null   float64\n",
            " 3   C               2413 non-null   float64\n",
            " 4   D               2413 non-null   float64\n",
            " 5   E               2413 non-null   float64\n",
            " 6   F               2413 non-null   float64\n",
            " 7   G               2413 non-null   float64\n",
            " 8   H               2413 non-null   float64\n",
            " 9   I               2413 non-null   float64\n",
            " 10  K               2413 non-null   float64\n",
            " 11  L               2413 non-null   float64\n",
            " 12  M               2413 non-null   float64\n",
            " 13  N               2413 non-null   float64\n",
            " 14  P               2413 non-null   float64\n",
            " 15  Q               2413 non-null   float64\n",
            " 16  R               2413 non-null   float64\n",
            " 17  S               2413 non-null   float64\n",
            " 18  T               2413 non-null   float64\n",
            " 19  V               2413 non-null   float64\n",
            " 20  W               2413 non-null   float64\n",
            " 21  Y               2413 non-null   float64\n",
            " 22  Carbon          2413 non-null   float64\n",
            " 23  Hydrogen        2413 non-null   float64\n",
            " 24  Nitrogen        2413 non-null   float64\n",
            " 25  Oxygen          2413 non-null   float64\n",
            " 26  Sulphur         2413 non-null   float64\n",
            " 27  total_bonds     2413 non-null   float64\n",
            " 28  single          2413 non-null   float64\n",
            " 29  double          2413 non-null   float64\n",
            "dtypes: float64(28), int64(2)\n",
            "memory usage: 565.7 KB\n"
          ]
        }
      ]
    },
    {
      "cell_type": "code",
      "source": [
        "#Now use the model \n",
        "y_pred=regressor_model.predict(test_data)\n"
      ],
      "metadata": {
        "id": "b2virxGkzA1w"
      },
      "execution_count": 84,
      "outputs": []
    }
  ]
}