{
 "cells": [
  {
   "cell_type": "code",
   "execution_count": null,
   "id": "01b8b756-f969-4a93-b6c7-c5825fbc01ef",
   "metadata": {},
   "outputs": [],
   "source": []
  },
  {
   "cell_type": "code",
   "execution_count": 3,
   "id": "201370a1-dca4-499d-a198-eb91c6f1eea7",
   "metadata": {},
   "outputs": [],
   "source": [
    "import pandas as pd\n",
    "import numpy as np\n",
    "import matplotlib.pyplot as plt\n",
    "import seaborn as sns\n",
    "\n",
    "from sklearn import model_selection, preprocessing, feature_extraction, linear_model"
   ]
  },
  {
   "cell_type": "code",
   "execution_count": 1,
   "id": "93185dc9-a62e-4357-8647-cf4162f4c34d",
   "metadata": {},
   "outputs": [],
   "source": [
    "SEED = 42\n",
    "N_FOLDS = 5 "
   ]
  },
  {
   "cell_type": "markdown",
   "id": "17072f83-76b8-4ec5-970a-7c53e262f478",
   "metadata": {},
   "source": [
    "#### Finding Groups in the Train Data\n",
    "It is observed that  train data contains mutations. We can see from the training set to see how mutations affects the target. This is a required step because test data is all mutations."
   ]
  },
  {
   "cell_type": "code",
   "execution_count": 4,
   "id": "4370f9cd-088d-485c-91e8-19db070fc03e",
   "metadata": {},
   "outputs": [
    {
     "data": {
      "text/html": [
       "<div>\n",
       "<style scoped>\n",
       "    .dataframe tbody tr th:only-of-type {\n",
       "        vertical-align: middle;\n",
       "    }\n",
       "\n",
       "    .dataframe tbody tr th {\n",
       "        vertical-align: top;\n",
       "    }\n",
       "\n",
       "    .dataframe thead th {\n",
       "        text-align: right;\n",
       "    }\n",
       "</style>\n",
       "<table border=\"1\" class=\"dataframe\">\n",
       "  <thead>\n",
       "    <tr style=\"text-align: right;\">\n",
       "      <th></th>\n",
       "      <th>seq_id</th>\n",
       "      <th>protein_sequence</th>\n",
       "      <th>pH</th>\n",
       "      <th>data_source</th>\n",
       "      <th>tm</th>\n",
       "    </tr>\n",
       "  </thead>\n",
       "  <tbody>\n",
       "    <tr>\n",
       "      <th>0</th>\n",
       "      <td>0</td>\n",
       "      <td>AAAAKAAALALLGEAPEVVDIWLPAGWRQPFRVFRLERKGDGVLVG...</td>\n",
       "      <td>7.0</td>\n",
       "      <td>doi.org/10.1038/s41592-020-0801-4</td>\n",
       "      <td>75.7</td>\n",
       "    </tr>\n",
       "    <tr>\n",
       "      <th>1</th>\n",
       "      <td>1</td>\n",
       "      <td>AAADGEPLHNEEERAGAGQVGRSLPQESEEQRTGSRPRRRRDLGSR...</td>\n",
       "      <td>7.0</td>\n",
       "      <td>doi.org/10.1038/s41592-020-0801-4</td>\n",
       "      <td>50.5</td>\n",
       "    </tr>\n",
       "    <tr>\n",
       "      <th>2</th>\n",
       "      <td>2</td>\n",
       "      <td>AAAFSTPRATSYRILSSAGSGSTRADAPQVRRLHTTRDLLAKDYYA...</td>\n",
       "      <td>7.0</td>\n",
       "      <td>doi.org/10.1038/s41592-020-0801-4</td>\n",
       "      <td>40.5</td>\n",
       "    </tr>\n",
       "    <tr>\n",
       "      <th>3</th>\n",
       "      <td>3</td>\n",
       "      <td>AAASGLRTAIPAQPLRHLLQPAPRPCLRPFGLLSVRAGSARRSGLL...</td>\n",
       "      <td>7.0</td>\n",
       "      <td>doi.org/10.1038/s41592-020-0801-4</td>\n",
       "      <td>47.2</td>\n",
       "    </tr>\n",
       "    <tr>\n",
       "      <th>4</th>\n",
       "      <td>4</td>\n",
       "      <td>AAATKSGPRRQSQGASVRTFTPFYFLVEPVDTLSVRGSSVILNCSA...</td>\n",
       "      <td>7.0</td>\n",
       "      <td>doi.org/10.1038/s41592-020-0801-4</td>\n",
       "      <td>49.5</td>\n",
       "    </tr>\n",
       "  </tbody>\n",
       "</table>\n",
       "</div>"
      ],
      "text/plain": [
       "   seq_id                                   protein_sequence   pH  \\\n",
       "0       0  AAAAKAAALALLGEAPEVVDIWLPAGWRQPFRVFRLERKGDGVLVG...  7.0   \n",
       "1       1  AAADGEPLHNEEERAGAGQVGRSLPQESEEQRTGSRPRRRRDLGSR...  7.0   \n",
       "2       2  AAAFSTPRATSYRILSSAGSGSTRADAPQVRRLHTTRDLLAKDYYA...  7.0   \n",
       "3       3  AAASGLRTAIPAQPLRHLLQPAPRPCLRPFGLLSVRAGSARRSGLL...  7.0   \n",
       "4       4  AAATKSGPRRQSQGASVRTFTPFYFLVEPVDTLSVRGSSVILNCSA...  7.0   \n",
       "\n",
       "                         data_source    tm  \n",
       "0  doi.org/10.1038/s41592-020-0801-4  75.7  \n",
       "1  doi.org/10.1038/s41592-020-0801-4  50.5  \n",
       "2  doi.org/10.1038/s41592-020-0801-4  40.5  \n",
       "3  doi.org/10.1038/s41592-020-0801-4  47.2  \n",
       "4  doi.org/10.1038/s41592-020-0801-4  49.5  "
      ]
     },
     "execution_count": 4,
     "metadata": {},
     "output_type": "execute_result"
    }
   ],
   "source": [
    "train_df = pd.read_csv('./train.csv')\n",
    "test_df = pd.read_csv('./test.csv')\n",
    "train_df.head()"
   ]
  },
  {
   "cell_type": "markdown",
   "id": "c9e223f0-fe2d-4f65-b427-05a08869c4a2",
   "metadata": {},
   "source": [
    "#### Find Mutations, Insertions, Deletions\n",
    "Below we find training set mutations, insertions, deletions. For each observed protein sequence length, we compare all rows with ± DEL_THRESH sequence length. "
   ]
  },
  {
   "cell_type": "code",
   "execution_count": 28,
   "id": "c046cd18-1832-4a24-89b8-218af36ed6e2",
   "metadata": {},
   "outputs": [],
   "source": [
    "train_df['x'] = train_df.protein_sequence.str.len()\n",
    "vc = train_df.x.value_counts()"
   ]
  },
  {
   "cell_type": "code",
   "execution_count": 6,
   "id": "45c3f7e8-3842-4061-96dc-ee6fe61bf10f",
   "metadata": {},
   "outputs": [
    {
     "data": {
      "text/plain": [
       "1965"
      ]
     },
     "execution_count": 6,
     "metadata": {},
     "output_type": "execute_result"
    }
   ],
   "source": [
    "len(vc)"
   ]
  },
  {
   "cell_type": "markdown",
   "id": "bfb6fdad-cb4a-467a-abd4-b75ea1500e92",
   "metadata": {},
   "source": [
    "There are 1965 unique lengths protein sequence in the training set."
   ]
  },
  {
   "cell_type": "code",
   "execution_count": 29,
   "id": "7f5f8dce-274c-463e-91e9-560a6d0a07f9",
   "metadata": {},
   "outputs": [],
   "source": [
    "# Custom Levenshtein Matrix function from stackoverflow as such a package is not available in python.\n",
    "\n",
    "from Levenshtein import distance\n",
    "\n",
    "def get_distance_matrix(str_list):\n",
    "    matrix = np.zeros(shape=(len(str_list), len(str_list)))\n",
    "\n",
    "    for i in range(0, len(str_list)):\n",
    "        for j in range(i+1, len(str_list)):\n",
    "            matrix[i][j] = distance(str_list[i], str_list[j]) \n",
    "    for i in range(0, len(str_list)):\n",
    "        for j in range(0, len(str_list)):\n",
    "            if i == j:\n",
    "                matrix[i][j] = 0 \n",
    "            elif i > j:\n",
    "                matrix[i][j] = matrix[j][i]\n",
    "\n",
    "    return matrix"
   ]
  },
  {
   "cell_type": "code",
   "execution_count": 25,
   "id": "63b909df-9da2-49d8-b4cb-4aa3756f3f1b",
   "metadata": {},
   "outputs": [],
   "source": [
    "train_df['group'] = -1\n",
    "grp_idx = 0\n",
    "\n",
    "MUT_THRESH = 10\n",
    "DEL_THRESH = 3\n",
    "\n",
    "for k in range(len(vc)):\n",
    "    c = vc.index[k]\n",
    "    \n",
    "    # Getting subset of training data withing the threshold distance\n",
    "    tmp = train_df.loc[(train_df.x>=c-DEL_THRESH) & \n",
    "                       (train_df.x<=c+DEL_THRESH) & \n",
    "                       (train_df.group==-1)]\n",
    "    if len(tmp)<=1: break\n",
    "    \n",
    "    # Levenstein Distance\n",
    "    x = get_distance_matrix(tmp.protein_sequence.tolist())\n",
    "    \n",
    "    # Finding the number of mutations\n",
    "    mutations = []\n",
    "    for m in range(1, MUT_THRESH + 1):\n",
    "        mutations.append( len( np.unique( np.where( x==m )[0] ) ) )\n",
    "        \n",
    "    # finding rows with mutations within the threshold\n",
    "    mut_rows = np.unique( np.where( (x>0)&(x<=MUT_THRESH) )[0] )\n",
    "    seen = []\n",
    "    for j in mut_rows:\n",
    "        if j in seen: continue\n",
    "        i = np.where( np.array(x[j,])<=MUT_THRESH )[0]\n",
    "        seen += list(i)\n",
    "        idx = tmp.iloc[i].index\n",
    "        train_df.loc[idx,'group'] = grp_idx\n",
    "        grp_idx += 1"
   ]
  },
  {
   "cell_type": "markdown",
   "id": "1e08cb4b-6279-4111-839d-46987719a555",
   "metadata": {},
   "source": [
    "Saving the new dataset with a group column."
   ]
  },
  {
   "cell_type": "code",
   "execution_count": 27,
   "id": "12fffa51-d930-435e-967a-c9845e1873c5",
   "metadata": {},
   "outputs": [
    {
     "data": {
      "text/html": [
       "<div>\n",
       "<style scoped>\n",
       "    .dataframe tbody tr th:only-of-type {\n",
       "        vertical-align: middle;\n",
       "    }\n",
       "\n",
       "    .dataframe tbody tr th {\n",
       "        vertical-align: top;\n",
       "    }\n",
       "\n",
       "    .dataframe thead th {\n",
       "        text-align: right;\n",
       "    }\n",
       "</style>\n",
       "<table border=\"1\" class=\"dataframe\">\n",
       "  <thead>\n",
       "    <tr style=\"text-align: right;\">\n",
       "      <th></th>\n",
       "      <th>seq_id</th>\n",
       "      <th>protein_sequence</th>\n",
       "      <th>pH</th>\n",
       "      <th>data_source</th>\n",
       "      <th>tm</th>\n",
       "      <th>group</th>\n",
       "    </tr>\n",
       "  </thead>\n",
       "  <tbody>\n",
       "    <tr>\n",
       "      <th>0</th>\n",
       "      <td>0</td>\n",
       "      <td>AAAAKAAALALLGEAPEVVDIWLPAGWRQPFRVFRLERKGDGVLVG...</td>\n",
       "      <td>7.0</td>\n",
       "      <td>doi.org/10.1038/s41592-020-0801-4</td>\n",
       "      <td>75.7</td>\n",
       "      <td>-1</td>\n",
       "    </tr>\n",
       "    <tr>\n",
       "      <th>1</th>\n",
       "      <td>1</td>\n",
       "      <td>AAADGEPLHNEEERAGAGQVGRSLPQESEEQRTGSRPRRRRDLGSR...</td>\n",
       "      <td>7.0</td>\n",
       "      <td>doi.org/10.1038/s41592-020-0801-4</td>\n",
       "      <td>50.5</td>\n",
       "      <td>-1</td>\n",
       "    </tr>\n",
       "    <tr>\n",
       "      <th>2</th>\n",
       "      <td>2</td>\n",
       "      <td>AAAFSTPRATSYRILSSAGSGSTRADAPQVRRLHTTRDLLAKDYYA...</td>\n",
       "      <td>7.0</td>\n",
       "      <td>doi.org/10.1038/s41592-020-0801-4</td>\n",
       "      <td>40.5</td>\n",
       "      <td>-1</td>\n",
       "    </tr>\n",
       "    <tr>\n",
       "      <th>3</th>\n",
       "      <td>3</td>\n",
       "      <td>AAASGLRTAIPAQPLRHLLQPAPRPCLRPFGLLSVRAGSARRSGLL...</td>\n",
       "      <td>7.0</td>\n",
       "      <td>doi.org/10.1038/s41592-020-0801-4</td>\n",
       "      <td>47.2</td>\n",
       "      <td>-1</td>\n",
       "    </tr>\n",
       "    <tr>\n",
       "      <th>4</th>\n",
       "      <td>4</td>\n",
       "      <td>AAATKSGPRRQSQGASVRTFTPFYFLVEPVDTLSVRGSSVILNCSA...</td>\n",
       "      <td>7.0</td>\n",
       "      <td>doi.org/10.1038/s41592-020-0801-4</td>\n",
       "      <td>49.5</td>\n",
       "      <td>-1</td>\n",
       "    </tr>\n",
       "  </tbody>\n",
       "</table>\n",
       "</div>"
      ],
      "text/plain": [
       "   seq_id                                   protein_sequence   pH  \\\n",
       "0       0  AAAAKAAALALLGEAPEVVDIWLPAGWRQPFRVFRLERKGDGVLVG...  7.0   \n",
       "1       1  AAADGEPLHNEEERAGAGQVGRSLPQESEEQRTGSRPRRRRDLGSR...  7.0   \n",
       "2       2  AAAFSTPRATSYRILSSAGSGSTRADAPQVRRLHTTRDLLAKDYYA...  7.0   \n",
       "3       3  AAASGLRTAIPAQPLRHLLQPAPRPCLRPFGLLSVRAGSARRSGLL...  7.0   \n",
       "4       4  AAATKSGPRRQSQGASVRTFTPFYFLVEPVDTLSVRGSSVILNCSA...  7.0   \n",
       "\n",
       "                         data_source    tm  group  \n",
       "0  doi.org/10.1038/s41592-020-0801-4  75.7     -1  \n",
       "1  doi.org/10.1038/s41592-020-0801-4  50.5     -1  \n",
       "2  doi.org/10.1038/s41592-020-0801-4  40.5     -1  \n",
       "3  doi.org/10.1038/s41592-020-0801-4  47.2     -1  \n",
       "4  doi.org/10.1038/s41592-020-0801-4  49.5     -1  "
      ]
     },
     "execution_count": 27,
     "metadata": {},
     "output_type": "execute_result"
    }
   ],
   "source": [
    "train_df = train_df.drop('x',axis=1)\n",
    "train_df.to_csv('train_with_groups.csv',index=False)\n",
    "train_df.head()"
   ]
  },
  {
   "cell_type": "code",
   "execution_count": null,
   "id": "aed2af87-30ef-41af-982b-ceb6e9883d75",
   "metadata": {},
   "outputs": [],
   "source": []
  }
 ],
 "metadata": {
  "kernelspec": {
   "display_name": "Python 3 (ipykernel)",
   "language": "python",
   "name": "python3"
  },
  "language_info": {
   "codemirror_mode": {
    "name": "ipython",
    "version": 3
   },
   "file_extension": ".py",
   "mimetype": "text/x-python",
   "name": "python",
   "nbconvert_exporter": "python",
   "pygments_lexer": "ipython3",
   "version": "3.7.10"
  }
 },
 "nbformat": 4,
 "nbformat_minor": 5
}
