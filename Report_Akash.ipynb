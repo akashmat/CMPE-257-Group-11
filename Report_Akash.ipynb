{
  "cells": [
    {
      "cell_type": "markdown",
      "metadata": {
        "id": "view-in-github",
        "colab_type": "text"
      },
      "source": [
        "<a href=\"https://colab.research.google.com/github/akashmat/CMPE-257-Group-11/blob/main/Report_Akash.ipynb\" target=\"_parent\"><img src=\"https://colab.research.google.com/assets/colab-badge.svg\" alt=\"Open In Colab\"/></a>"
      ]
    },
    {
      "cell_type": "code",
      "execution_count": 1,
      "id": "201370a1-dca4-499d-a198-eb91c6f1eea7",
      "metadata": {
        "id": "201370a1-dca4-499d-a198-eb91c6f1eea7"
      },
      "outputs": [],
      "source": [
        "import pandas as pd\n",
        "import numpy as np\n",
        "import matplotlib.pyplot as plt\n",
        "import seaborn as sns\n",
        "\n",
        "from sklearn import model_selection, preprocessing, feature_extraction, linear_model"
      ]
    },
    {
      "cell_type": "code",
      "source": [
        "from google.colab import drive\n",
        "\n",
        "drive.mount('/content/gdrive')"
      ],
      "metadata": {
        "colab": {
          "base_uri": "https://localhost:8080/"
        },
        "id": "xdZ2W7LgTsVN",
        "outputId": "2a3b4f2a-21e5-4314-9ac4-fcc1f9a74c15"
      },
      "id": "xdZ2W7LgTsVN",
      "execution_count": 2,
      "outputs": [
        {
          "output_type": "stream",
          "name": "stdout",
          "text": [
            "Mounted at /content/gdrive\n"
          ]
        }
      ]
    },
    {
      "cell_type": "markdown",
      "id": "17072f83-76b8-4ec5-970a-7c53e262f478",
      "metadata": {
        "id": "17072f83-76b8-4ec5-970a-7c53e262f478"
      },
      "source": [
        "#### Finding Groups in the Train Data\n",
        "It is observed that  train data contains mutations. We can see from the training set to see how mutations affects the target. This is a required step because test data is all mutations."
      ]
    },
    {
      "cell_type": "code",
      "execution_count": 3,
      "id": "4370f9cd-088d-485c-91e8-19db070fc03e",
      "metadata": {
        "colab": {
          "base_uri": "https://localhost:8080/",
          "height": 204
        },
        "id": "4370f9cd-088d-485c-91e8-19db070fc03e",
        "outputId": "9c71dbfc-a9bd-4fe6-8d6c-079c43151d77"
      },
      "outputs": [
        {
          "output_type": "execute_result",
          "data": {
            "text/plain": [
              "   seq_id                                   protein_sequence   pH  \\\n",
              "0       0  AAAAKAAALALLGEAPEVVDIWLPAGWRQPFRVFRLERKGDGVLVG...  7.0   \n",
              "1       1  AAADGEPLHNEEERAGAGQVGRSLPQESEEQRTGSRPRRRRDLGSR...  7.0   \n",
              "2       2  AAAFSTPRATSYRILSSAGSGSTRADAPQVRRLHTTRDLLAKDYYA...  7.0   \n",
              "3       3  AAASGLRTAIPAQPLRHLLQPAPRPCLRPFGLLSVRAGSARRSGLL...  7.0   \n",
              "4       4  AAATKSGPRRQSQGASVRTFTPFYFLVEPVDTLSVRGSSVILNCSA...  7.0   \n",
              "\n",
              "                         data_source    tm  \n",
              "0  doi.org/10.1038/s41592-020-0801-4  75.7  \n",
              "1  doi.org/10.1038/s41592-020-0801-4  50.5  \n",
              "2  doi.org/10.1038/s41592-020-0801-4  40.5  \n",
              "3  doi.org/10.1038/s41592-020-0801-4  47.2  \n",
              "4  doi.org/10.1038/s41592-020-0801-4  49.5  "
            ],
            "text/html": [
              "\n",
              "  <div id=\"df-89248592-b505-467e-a4d7-8bc818d3a0a2\">\n",
              "    <div class=\"colab-df-container\">\n",
              "      <div>\n",
              "<style scoped>\n",
              "    .dataframe tbody tr th:only-of-type {\n",
              "        vertical-align: middle;\n",
              "    }\n",
              "\n",
              "    .dataframe tbody tr th {\n",
              "        vertical-align: top;\n",
              "    }\n",
              "\n",
              "    .dataframe thead th {\n",
              "        text-align: right;\n",
              "    }\n",
              "</style>\n",
              "<table border=\"1\" class=\"dataframe\">\n",
              "  <thead>\n",
              "    <tr style=\"text-align: right;\">\n",
              "      <th></th>\n",
              "      <th>seq_id</th>\n",
              "      <th>protein_sequence</th>\n",
              "      <th>pH</th>\n",
              "      <th>data_source</th>\n",
              "      <th>tm</th>\n",
              "    </tr>\n",
              "  </thead>\n",
              "  <tbody>\n",
              "    <tr>\n",
              "      <th>0</th>\n",
              "      <td>0</td>\n",
              "      <td>AAAAKAAALALLGEAPEVVDIWLPAGWRQPFRVFRLERKGDGVLVG...</td>\n",
              "      <td>7.0</td>\n",
              "      <td>doi.org/10.1038/s41592-020-0801-4</td>\n",
              "      <td>75.7</td>\n",
              "    </tr>\n",
              "    <tr>\n",
              "      <th>1</th>\n",
              "      <td>1</td>\n",
              "      <td>AAADGEPLHNEEERAGAGQVGRSLPQESEEQRTGSRPRRRRDLGSR...</td>\n",
              "      <td>7.0</td>\n",
              "      <td>doi.org/10.1038/s41592-020-0801-4</td>\n",
              "      <td>50.5</td>\n",
              "    </tr>\n",
              "    <tr>\n",
              "      <th>2</th>\n",
              "      <td>2</td>\n",
              "      <td>AAAFSTPRATSYRILSSAGSGSTRADAPQVRRLHTTRDLLAKDYYA...</td>\n",
              "      <td>7.0</td>\n",
              "      <td>doi.org/10.1038/s41592-020-0801-4</td>\n",
              "      <td>40.5</td>\n",
              "    </tr>\n",
              "    <tr>\n",
              "      <th>3</th>\n",
              "      <td>3</td>\n",
              "      <td>AAASGLRTAIPAQPLRHLLQPAPRPCLRPFGLLSVRAGSARRSGLL...</td>\n",
              "      <td>7.0</td>\n",
              "      <td>doi.org/10.1038/s41592-020-0801-4</td>\n",
              "      <td>47.2</td>\n",
              "    </tr>\n",
              "    <tr>\n",
              "      <th>4</th>\n",
              "      <td>4</td>\n",
              "      <td>AAATKSGPRRQSQGASVRTFTPFYFLVEPVDTLSVRGSSVILNCSA...</td>\n",
              "      <td>7.0</td>\n",
              "      <td>doi.org/10.1038/s41592-020-0801-4</td>\n",
              "      <td>49.5</td>\n",
              "    </tr>\n",
              "  </tbody>\n",
              "</table>\n",
              "</div>\n",
              "      <button class=\"colab-df-convert\" onclick=\"convertToInteractive('df-89248592-b505-467e-a4d7-8bc818d3a0a2')\"\n",
              "              title=\"Convert this dataframe to an interactive table.\"\n",
              "              style=\"display:none;\">\n",
              "        \n",
              "  <svg xmlns=\"http://www.w3.org/2000/svg\" height=\"24px\"viewBox=\"0 0 24 24\"\n",
              "       width=\"24px\">\n",
              "    <path d=\"M0 0h24v24H0V0z\" fill=\"none\"/>\n",
              "    <path d=\"M18.56 5.44l.94 2.06.94-2.06 2.06-.94-2.06-.94-.94-2.06-.94 2.06-2.06.94zm-11 1L8.5 8.5l.94-2.06 2.06-.94-2.06-.94L8.5 2.5l-.94 2.06-2.06.94zm10 10l.94 2.06.94-2.06 2.06-.94-2.06-.94-.94-2.06-.94 2.06-2.06.94z\"/><path d=\"M17.41 7.96l-1.37-1.37c-.4-.4-.92-.59-1.43-.59-.52 0-1.04.2-1.43.59L10.3 9.45l-7.72 7.72c-.78.78-.78 2.05 0 2.83L4 21.41c.39.39.9.59 1.41.59.51 0 1.02-.2 1.41-.59l7.78-7.78 2.81-2.81c.8-.78.8-2.07 0-2.86zM5.41 20L4 18.59l7.72-7.72 1.47 1.35L5.41 20z\"/>\n",
              "  </svg>\n",
              "      </button>\n",
              "      \n",
              "  <style>\n",
              "    .colab-df-container {\n",
              "      display:flex;\n",
              "      flex-wrap:wrap;\n",
              "      gap: 12px;\n",
              "    }\n",
              "\n",
              "    .colab-df-convert {\n",
              "      background-color: #E8F0FE;\n",
              "      border: none;\n",
              "      border-radius: 50%;\n",
              "      cursor: pointer;\n",
              "      display: none;\n",
              "      fill: #1967D2;\n",
              "      height: 32px;\n",
              "      padding: 0 0 0 0;\n",
              "      width: 32px;\n",
              "    }\n",
              "\n",
              "    .colab-df-convert:hover {\n",
              "      background-color: #E2EBFA;\n",
              "      box-shadow: 0px 1px 2px rgba(60, 64, 67, 0.3), 0px 1px 3px 1px rgba(60, 64, 67, 0.15);\n",
              "      fill: #174EA6;\n",
              "    }\n",
              "\n",
              "    [theme=dark] .colab-df-convert {\n",
              "      background-color: #3B4455;\n",
              "      fill: #D2E3FC;\n",
              "    }\n",
              "\n",
              "    [theme=dark] .colab-df-convert:hover {\n",
              "      background-color: #434B5C;\n",
              "      box-shadow: 0px 1px 3px 1px rgba(0, 0, 0, 0.15);\n",
              "      filter: drop-shadow(0px 1px 2px rgba(0, 0, 0, 0.3));\n",
              "      fill: #FFFFFF;\n",
              "    }\n",
              "  </style>\n",
              "\n",
              "      <script>\n",
              "        const buttonEl =\n",
              "          document.querySelector('#df-89248592-b505-467e-a4d7-8bc818d3a0a2 button.colab-df-convert');\n",
              "        buttonEl.style.display =\n",
              "          google.colab.kernel.accessAllowed ? 'block' : 'none';\n",
              "\n",
              "        async function convertToInteractive(key) {\n",
              "          const element = document.querySelector('#df-89248592-b505-467e-a4d7-8bc818d3a0a2');\n",
              "          const dataTable =\n",
              "            await google.colab.kernel.invokeFunction('convertToInteractive',\n",
              "                                                     [key], {});\n",
              "          if (!dataTable) return;\n",
              "\n",
              "          const docLinkHtml = 'Like what you see? Visit the ' +\n",
              "            '<a target=\"_blank\" href=https://colab.research.google.com/notebooks/data_table.ipynb>data table notebook</a>'\n",
              "            + ' to learn more about interactive tables.';\n",
              "          element.innerHTML = '';\n",
              "          dataTable['output_type'] = 'display_data';\n",
              "          await google.colab.output.renderOutput(dataTable, element);\n",
              "          const docLink = document.createElement('div');\n",
              "          docLink.innerHTML = docLinkHtml;\n",
              "          element.appendChild(docLink);\n",
              "        }\n",
              "      </script>\n",
              "    </div>\n",
              "  </div>\n",
              "  "
            ]
          },
          "metadata": {},
          "execution_count": 3
        }
      ],
      "source": [
        "train_df = pd.read_csv('./train.csv')\n",
        "test_df = pd.read_csv('./test.csv')\n",
        "train_df.head()"
      ]
    },
    {
      "cell_type": "markdown",
      "id": "c9e223f0-fe2d-4f65-b427-05a08869c4a2",
      "metadata": {
        "id": "c9e223f0-fe2d-4f65-b427-05a08869c4a2"
      },
      "source": [
        "#### Find Mutations, Insertions, Deletions\n",
        "Below we find training set mutations, insertions, deletions. For each observed protein sequence length, we compare all rows with ± DEL_THRESH sequence length. "
      ]
    },
    {
      "cell_type": "code",
      "execution_count": null,
      "id": "c046cd18-1832-4a24-89b8-218af36ed6e2",
      "metadata": {
        "id": "c046cd18-1832-4a24-89b8-218af36ed6e2"
      },
      "outputs": [],
      "source": [
        "train_df['x'] = train_df.protein_sequence.str.len()\n",
        "vc = train_df.x.value_counts()"
      ]
    },
    {
      "cell_type": "code",
      "execution_count": null,
      "id": "45c3f7e8-3842-4061-96dc-ee6fe61bf10f",
      "metadata": {
        "id": "45c3f7e8-3842-4061-96dc-ee6fe61bf10f",
        "outputId": "ea0181fd-c0bd-4a2c-fec9-2a44cbbf08b6"
      },
      "outputs": [
        {
          "data": {
            "text/plain": [
              "1965"
            ]
          },
          "execution_count": 6,
          "metadata": {},
          "output_type": "execute_result"
        }
      ],
      "source": [
        "len(vc)"
      ]
    },
    {
      "cell_type": "markdown",
      "id": "bfb6fdad-cb4a-467a-abd4-b75ea1500e92",
      "metadata": {
        "id": "bfb6fdad-cb4a-467a-abd4-b75ea1500e92"
      },
      "source": [
        "There are 1965 unique lengths protein sequence in the training set."
      ]
    },
    {
      "cell_type": "code",
      "execution_count": null,
      "id": "7f5f8dce-274c-463e-91e9-560a6d0a07f9",
      "metadata": {
        "id": "7f5f8dce-274c-463e-91e9-560a6d0a07f9"
      },
      "outputs": [],
      "source": [
        "# Custom Levenshtein Matrix function from stackoverflow as such a package is not available in python.\n",
        "\n",
        "from Levenshtein import distance\n",
        "\n",
        "def get_distance_matrix(str_list):\n",
        "    matrix = np.zeros(shape=(len(str_list), len(str_list)))\n",
        "\n",
        "    for i in range(0, len(str_list)):\n",
        "        for j in range(i+1, len(str_list)):\n",
        "            matrix[i][j] = distance(str_list[i], str_list[j]) \n",
        "    for i in range(0, len(str_list)):\n",
        "        for j in range(0, len(str_list)):\n",
        "            if i == j:\n",
        "                matrix[i][j] = 0 \n",
        "            elif i > j:\n",
        "                matrix[i][j] = matrix[j][i]\n",
        "\n",
        "    return matrix"
      ]
    },
    {
      "cell_type": "code",
      "execution_count": null,
      "id": "63b909df-9da2-49d8-b4cb-4aa3756f3f1b",
      "metadata": {
        "id": "63b909df-9da2-49d8-b4cb-4aa3756f3f1b"
      },
      "outputs": [],
      "source": [
        "train_df['group'] = -1\n",
        "grp_idx = 0\n",
        "\n",
        "MUT_THRESH = 10\n",
        "DEL_THRESH = 3\n",
        "\n",
        "for k in range(len(vc)):\n",
        "    c = vc.index[k]\n",
        "    \n",
        "    # Getting subset of training data withing the threshold distance\n",
        "    tmp = train_df.loc[(train_df.x>=c-DEL_THRESH) & \n",
        "                       (train_df.x<=c+DEL_THRESH) & \n",
        "                       (train_df.group==-1)]\n",
        "    if len(tmp)<=1: break\n",
        "    \n",
        "    # Levenstein Distance\n",
        "    x = get_distance_matrix(tmp.protein_sequence.tolist())\n",
        "    \n",
        "    # Finding the number of mutations\n",
        "    mutations = []\n",
        "    for m in range(1, MUT_THRESH + 1):\n",
        "        mutations.append( len( np.unique( np.where( x==m )[0] ) ) )\n",
        "        \n",
        "    # finding rows with mutations within the threshold\n",
        "    mut_rows = np.unique( np.where( (x>0)&(x<=MUT_THRESH) )[0] )\n",
        "    seen = []\n",
        "    for j in mut_rows:\n",
        "        if j in seen: continue\n",
        "        i = np.where( np.array(x[j,])<=MUT_THRESH )[0]\n",
        "        seen += list(i)\n",
        "        idx = tmp.iloc[i].index\n",
        "        train_df.loc[idx,'group'] = grp_idx\n",
        "        grp_idx += 1"
      ]
    },
    {
      "cell_type": "markdown",
      "id": "1e08cb4b-6279-4111-839d-46987719a555",
      "metadata": {
        "id": "1e08cb4b-6279-4111-839d-46987719a555"
      },
      "source": [
        "Saving the new dataset with a group column."
      ]
    },
    {
      "cell_type": "code",
      "execution_count": null,
      "id": "12fffa51-d930-435e-967a-c9845e1873c5",
      "metadata": {
        "id": "12fffa51-d930-435e-967a-c9845e1873c5",
        "outputId": "13e87393-ef36-400c-b665-1440fabcf909"
      },
      "outputs": [
        {
          "data": {
            "text/html": [
              "<div>\n",
              "<style scoped>\n",
              "    .dataframe tbody tr th:only-of-type {\n",
              "        vertical-align: middle;\n",
              "    }\n",
              "\n",
              "    .dataframe tbody tr th {\n",
              "        vertical-align: top;\n",
              "    }\n",
              "\n",
              "    .dataframe thead th {\n",
              "        text-align: right;\n",
              "    }\n",
              "</style>\n",
              "<table border=\"1\" class=\"dataframe\">\n",
              "  <thead>\n",
              "    <tr style=\"text-align: right;\">\n",
              "      <th></th>\n",
              "      <th>seq_id</th>\n",
              "      <th>protein_sequence</th>\n",
              "      <th>pH</th>\n",
              "      <th>data_source</th>\n",
              "      <th>tm</th>\n",
              "      <th>group</th>\n",
              "    </tr>\n",
              "  </thead>\n",
              "  <tbody>\n",
              "    <tr>\n",
              "      <th>0</th>\n",
              "      <td>0</td>\n",
              "      <td>AAAAKAAALALLGEAPEVVDIWLPAGWRQPFRVFRLERKGDGVLVG...</td>\n",
              "      <td>7.0</td>\n",
              "      <td>doi.org/10.1038/s41592-020-0801-4</td>\n",
              "      <td>75.7</td>\n",
              "      <td>-1</td>\n",
              "    </tr>\n",
              "    <tr>\n",
              "      <th>1</th>\n",
              "      <td>1</td>\n",
              "      <td>AAADGEPLHNEEERAGAGQVGRSLPQESEEQRTGSRPRRRRDLGSR...</td>\n",
              "      <td>7.0</td>\n",
              "      <td>doi.org/10.1038/s41592-020-0801-4</td>\n",
              "      <td>50.5</td>\n",
              "      <td>-1</td>\n",
              "    </tr>\n",
              "    <tr>\n",
              "      <th>2</th>\n",
              "      <td>2</td>\n",
              "      <td>AAAFSTPRATSYRILSSAGSGSTRADAPQVRRLHTTRDLLAKDYYA...</td>\n",
              "      <td>7.0</td>\n",
              "      <td>doi.org/10.1038/s41592-020-0801-4</td>\n",
              "      <td>40.5</td>\n",
              "      <td>-1</td>\n",
              "    </tr>\n",
              "    <tr>\n",
              "      <th>3</th>\n",
              "      <td>3</td>\n",
              "      <td>AAASGLRTAIPAQPLRHLLQPAPRPCLRPFGLLSVRAGSARRSGLL...</td>\n",
              "      <td>7.0</td>\n",
              "      <td>doi.org/10.1038/s41592-020-0801-4</td>\n",
              "      <td>47.2</td>\n",
              "      <td>-1</td>\n",
              "    </tr>\n",
              "    <tr>\n",
              "      <th>4</th>\n",
              "      <td>4</td>\n",
              "      <td>AAATKSGPRRQSQGASVRTFTPFYFLVEPVDTLSVRGSSVILNCSA...</td>\n",
              "      <td>7.0</td>\n",
              "      <td>doi.org/10.1038/s41592-020-0801-4</td>\n",
              "      <td>49.5</td>\n",
              "      <td>-1</td>\n",
              "    </tr>\n",
              "  </tbody>\n",
              "</table>\n",
              "</div>"
            ],
            "text/plain": [
              "   seq_id                                   protein_sequence   pH  \\\n",
              "0       0  AAAAKAAALALLGEAPEVVDIWLPAGWRQPFRVFRLERKGDGVLVG...  7.0   \n",
              "1       1  AAADGEPLHNEEERAGAGQVGRSLPQESEEQRTGSRPRRRRDLGSR...  7.0   \n",
              "2       2  AAAFSTPRATSYRILSSAGSGSTRADAPQVRRLHTTRDLLAKDYYA...  7.0   \n",
              "3       3  AAASGLRTAIPAQPLRHLLQPAPRPCLRPFGLLSVRAGSARRSGLL...  7.0   \n",
              "4       4  AAATKSGPRRQSQGASVRTFTPFYFLVEPVDTLSVRGSSVILNCSA...  7.0   \n",
              "\n",
              "                         data_source    tm  group  \n",
              "0  doi.org/10.1038/s41592-020-0801-4  75.7     -1  \n",
              "1  doi.org/10.1038/s41592-020-0801-4  50.5     -1  \n",
              "2  doi.org/10.1038/s41592-020-0801-4  40.5     -1  \n",
              "3  doi.org/10.1038/s41592-020-0801-4  47.2     -1  \n",
              "4  doi.org/10.1038/s41592-020-0801-4  49.5     -1  "
            ]
          },
          "execution_count": 27,
          "metadata": {},
          "output_type": "execute_result"
        }
      ],
      "source": [
        "train_df = train_df.drop('x',axis=1)\n",
        "train_df.to_csv('train_with_groups.csv',index=False)\n",
        "train_df.head()"
      ]
    },
    {
      "cell_type": "code",
      "execution_count": null,
      "id": "b1195569-e7eb-46a0-8ae2-3720be598a83",
      "metadata": {
        "id": "b1195569-e7eb-46a0-8ae2-3720be598a83",
        "outputId": "3a1b4120-db0a-491d-bdfa-5d865b88d6db"
      },
      "outputs": [
        {
          "data": {
            "text/plain": [
              "<AxesSubplot:ylabel='Density'>"
            ]
          },
          "execution_count": 32,
          "metadata": {},
          "output_type": "execute_result"
        },
        {
          "data": {
            "image/png": "[encoded data removed]",
            "text/plain": [
              "<Figure size 432x288 with 1 Axes>"
            ]
          },
          "metadata": {
            "needs_background": "light"
          },
          "output_type": "display_data"
        }
      ],
      "source": [
        "train_df['tm'].plot(kind = 'density')"
      ]
    },
    {
      "cell_type": "markdown",
      "id": "b7405b4f-6c40-4e0f-8ee0-0b90d672d4f3",
      "metadata": {
        "id": "b7405b4f-6c40-4e0f-8ee0-0b90d672d4f3"
      },
      "source": [
        "The target seems to be kind of normally distributed with values between 45-50 as the most frequently occuring one"
      ]
    },
    {
      "cell_type": "code",
      "execution_count": null,
      "id": "9afaa644-289f-422b-ad56-81866f855033",
      "metadata": {
        "id": "9afaa644-289f-422b-ad56-81866f855033",
        "outputId": "23248a2f-65fe-4c8e-b845-2df9be6bc250"
      },
      "outputs": [
        {
          "name": "stdout",
          "output_type": "stream",
          "text": [
            "Minimum value of target : -1.0\n",
            "Maximum value of target : 130.0\n",
            "Median value of target : 48.0\n",
            "Minimum value of pH : 1.99\n",
            "Maximum value of pH : 64.9\n",
            "Median value of pH : 7.0\n"
          ]
        }
      ],
      "source": [
        "print(f\"Minimum value of target : {train_df.tm.min()}\")\n",
        "print(f\"Maximum value of target : {train_df.tm.max()}\")\n",
        "print(f\"Median value of target : {train_df.tm.median()}\")\n",
        "print(f\"Minimum value of pH : {train_df.pH.min()}\")\n",
        "print(f\"Maximum value of pH : {train_df.pH.max()}\")\n",
        "print(f\"Median value of pH : {train_df.pH.median()}\")"
      ]
    },
    {
      "cell_type": "markdown",
      "id": "22c9e376-4f61-44c0-b156-584f9ac949ee",
      "metadata": {
        "id": "22c9e376-4f61-44c0-b156-584f9ac949ee"
      },
      "source": [
        "#### Group K-Fold\n",
        "It is very important to keep track of grouping within the dataset in case of certain machine learning problems, and Group K-Fold can be of great help in such situations. Properties of Group K-Fold (from scikit-learn):\n",
        "- K-fold iterator variant with non-overlapping groups.\n",
        "- The same group will not appear in two different folds (the number of distinct groups has to be at least equal to the number of folds).\n",
        "- The folds are approximately balanced in the sense that the number of distinct groups is approximately the same in each fold.\n",
        "\n",
        "The grps parameter is simply a list representing which group each sample belongs to. We pass this list of groups as a parameter to the split() function along with the dataset."
      ]
    },
    {
      "cell_type": "markdown",
      "id": "3bc0152a-faa8-474a-afa6-3facce879086",
      "metadata": {
        "id": "3bc0152a-faa8-474a-afa6-3facce879086"
      },
      "source": [
        "#### Feature Extraction and Linear Regression\n",
        "Using Bigram count vectorizer to extract features from our protein sequence so that they can be used for regression."
      ]
    },
    {
      "cell_type": "code",
      "execution_count": 4,
      "id": "9bd46e79-1f65-43ce-8e66-eb44905d2c18",
      "metadata": {
        "id": "9bd46e79-1f65-43ce-8e66-eb44905d2c18"
      },
      "outputs": [],
      "source": [
        "# Group numbering starts from -1 being spread across groups.\n",
        "train_df = pd.read_csv('train_with_groups.csv')\n",
        "\n",
        "#Collecting rows with rows previously marked '-1', i.e., without a group.\n",
        "neg_row = train_df.loc[train_df.group==-1].shape[0]\n",
        "#Finding the maximum number of grouping.\n",
        "num_groups = train_df.group.max()\n",
        "# Spreading the ungrouped across the present groups\n",
        "train_df.loc[train_df.group==-1,'group'] = np.arange(neg_row) + num_groups + 1"
      ]
    },
    {
      "cell_type": "code",
      "execution_count": 5,
      "id": "5f2e31b3-e5ae-4024-8ebf-a4fbbf107de8",
      "metadata": {
        "id": "5f2e31b3-e5ae-4024-8ebf-a4fbbf107de8"
      },
      "outputs": [],
      "source": [
        "import warnings\n",
        "warnings.filterwarnings(\"ignore\")\n",
        "pd.options.mode.chained_assignment = None  # default='warn'\n",
        "\n",
        "SEED = 42\n",
        "N_FOLDS = 5\n",
        "\n",
        "X = train_df[['protein_sequence']]\n",
        "y = train_df[['tm']]\n",
        "groups = train_df.group\n",
        "\n",
        "groupKFold = model_selection.GroupKFold(n_splits = N_FOLDS)\n",
        "kfold = model_selection.GroupKFold(n_splits = 5)"
      ]
    },
    {
      "cell_type": "code",
      "execution_count": 6,
      "id": "b05fc770-dbf7-4f40-8d46-efadf28e11f4",
      "metadata": {
        "id": "b05fc770-dbf7-4f40-8d46-efadf28e11f4"
      },
      "outputs": [],
      "source": [
        "def gen_features(train_fold, valid_fold):\n",
        "    train_fold['text'] = train_fold['protein_sequence'].apply(lambda x: ' '.join(list(x)))\n",
        "    valid_fold['text'] = valid_fold['protein_sequence'].apply(lambda x: ' '.join(list(x)))\n",
        "    test_df['text'] = test_df['protein_sequence'].apply(lambda x: ' '.join(list(x)))\n",
        "    corpus = train_fold['text'].values.tolist()\n",
        "    \n",
        "    # Convert a collection of text documents to a matrix of token counts.\n",
        "    count_vect = feature_extraction.text.CountVectorizer(\n",
        "                        token_pattern='[A-Z]', \n",
        "                        analyzer = 'char',\n",
        "                        ngram_range=(1,2),\n",
        "                        stop_words = None\n",
        "                    )\n",
        "    count_vect = count_vect.fit(corpus)\n",
        "    X_train = count_vect.transform(train_fold['text'].values.tolist())\n",
        "    y_train = train_fold['tm'].values\n",
        "    X_valid = count_vect.transform(valid_fold['text'].values.tolist())\n",
        "    y_valid = valid_fold['tm'].values\n",
        "    X_test = count_vect.transform(test_df['text'].values.tolist())\n",
        "    \n",
        "    return X_train, y_train, X_valid, y_valid, X_test"
      ]
    },
    {
      "cell_type": "code",
      "execution_count": 7,
      "id": "ed5b1959-1934-4798-bba4-274d6d699da0",
      "metadata": {
        "colab": {
          "base_uri": "https://localhost:8080/"
        },
        "id": "ed5b1959-1934-4798-bba4-274d6d699da0",
        "outputId": "96f35236-273d-421e-8261-1dbce140e0c7"
      },
      "outputs": [
        {
          "output_type": "stream",
          "name": "stdout",
          "text": [
            "Correlation Score for fold 0 is  0.18611224592022765\n",
            "Correlation Score for fold 1 is  0.2744624843696969\n",
            "Correlation Score for fold 2 is  0.17963823035298912\n",
            "Correlation Score for fold 3 is  0.30363948679206837\n",
            "Correlation Score for fold 4 is  0.19563587795699497\n",
            "Mean 5 Folds Spearmann Correlation Score : 0.2278976650783954\n"
          ]
        }
      ],
      "source": [
        "test_preds = np.zeros((test_df.shape[0]))\n",
        "folds_score = []\n",
        "\n",
        "for fold, (trn_idx, val_idx) in enumerate(groupKFold.split(X, y, groups)):\n",
        "    train_fold, valid_fold = train_df.iloc[trn_idx], train_df.iloc[val_idx] \n",
        "    \n",
        "    X_train, y_train, X_valid, y_valid, X_test = gen_features(train_fold, valid_fold)\n",
        "    \n",
        "    linear_reg = linear_model.LinearRegression()\n",
        "    linear_reg.fit(X_train ,y_train)\n",
        "    y_valid_preds = linear_reg.predict(X_valid)\n",
        "    \n",
        "    corr_score = pd.concat([pd.DataFrame(valid_fold.tm.values , columns=['Actual']), \n",
        "                            pd.DataFrame(y_valid_preds, columns=['Predicted'])],axis=1).corr(method='spearman')['Actual']['Predicted']\n",
        "    folds_score.append(corr_score)\n",
        "    print(f\"Correlation Score for fold {fold} is  {corr_score}\")\n",
        "    test_preds+= linear_reg.predict(X_test)\n",
        "    \n",
        "print(f\"Mean {N_FOLDS} Folds Spearmann Correlation Score : {np.array(folds_score).mean()}\")\n",
        "test_preds = test_preds / N_FOLDS"
      ]
    },
    {
      "cell_type": "markdown",
      "id": "cd3c0970-9ee3-457e-8012-cd20a4fde4f7",
      "metadata": {
        "id": "cd3c0970-9ee3-457e-8012-cd20a4fde4f7"
      },
      "source": [
        "### Rigde Regression"
      ]
    },
    {
      "cell_type": "code",
      "execution_count": 8,
      "id": "4511cd5f-4be8-4370-a1d0-56cd63ca961e",
      "metadata": {
        "id": "4511cd5f-4be8-4370-a1d0-56cd63ca961e"
      },
      "outputs": [],
      "source": [
        "def gen_features_Tfidf(train_fold, valid_fold):\n",
        "    train_fold['text'] = train_fold['protein_sequence'].apply(lambda x: ' '.join(list(x)))\n",
        "    valid_fold['text'] = valid_fold['protein_sequence'].apply(lambda x: ' '.join(list(x)))\n",
        "    test_df['text'] = test_df['protein_sequence'].apply(lambda x: ' '.join(list(x)))\n",
        "    corpus = train_fold['text'].values.tolist()\n",
        "    \n",
        "    # Convert a collection of text documents to a matrix of token counts.\n",
        "    count_vect = feature_extraction.text.TfidfVectorizer(\n",
        "                    token_pattern='[A-Z]',\n",
        "                    analyzer='char', \n",
        "                    ngram_range=(2,8), \n",
        "                    sublinear_tf=True, \n",
        "                    stop_words=None)\n",
        "    \n",
        "    count_vect = count_vect.fit(corpus)\n",
        "    X_train = count_vect.transform(train_fold['text'].values.tolist())\n",
        "    y_train = train_fold['tm'].values\n",
        "    X_valid = count_vect.transform(valid_fold['text'].values.tolist())\n",
        "    y_valid = valid_fold['tm'].values\n",
        "    X_test = count_vect.transform(test_df['text'].values.tolist())\n",
        "    \n",
        "    return X_train, y_train, X_valid, y_valid, X_test"
      ]
    },
    {
      "cell_type": "code",
      "execution_count": 9,
      "id": "4683cd76-f99b-48e3-9040-1093e583259d",
      "metadata": {
        "colab": {
          "base_uri": "https://localhost:8080/"
        },
        "id": "4683cd76-f99b-48e3-9040-1093e583259d",
        "outputId": "9872e7bd-91c6-45d9-be28-aeb976b4cb5b"
      },
      "outputs": [
        {
          "output_type": "stream",
          "name": "stdout",
          "text": [
            "Correlation Score for fold 0 is  0.2989258231313675\n",
            "Correlation Score for fold 1 is  0.4212503714016043\n",
            "Correlation Score for fold 2 is  0.30589194508850126\n",
            "Correlation Score for fold 3 is  0.41897359261506756\n",
            "Correlation Score for fold 4 is  0.33320010901473424\n",
            "Mean 5 Folds Spearmann Correlation Score : 0.355648368250255\n"
          ]
        }
      ],
      "source": [
        "test_preds = np.zeros((test_df.shape[0]))\n",
        "folds_score = []\n",
        "\n",
        "for fold, (trn_idx, val_idx) in enumerate(groupKFold.split(X, y, groups)):\n",
        "    train_fold, valid_fold = train_df.iloc[trn_idx], train_df.iloc[val_idx]\n",
        "    \n",
        "    X_train, y_train, X_valid, y_valid, X_test = gen_features_Tfidf(train_fold, valid_fold)\n",
        "    \n",
        "    linear_reg = linear_model.Ridge()\n",
        "    linear_reg.fit(X_train, y_train)\n",
        "    y_valid_preds = linear_reg.predict(X_valid)\n",
        "    \n",
        "    corr_score = pd.concat([pd.DataFrame(valid_fold.tm.values , columns=['Actual']), \n",
        "                            pd.DataFrame(y_valid_preds, columns=['Predicted'])],axis=1).corr(method='spearman')['Actual']['Predicted']\n",
        "    folds_score.append(corr_score)\n",
        "    print(f\"Correlation Score for fold {fold} is  {corr_score}\")\n",
        "    test_preds+= linear_reg.predict(X_test)\n",
        "    \n",
        "print(f\"Mean {N_FOLDS} Folds Spearmann Correlation Score : {np.array(folds_score).mean()}\")\n",
        "test_preds = test_preds / N_FOLDS"
      ]
    },
    {
      "cell_type": "code",
      "execution_count": null,
      "id": "9d4838d9-4ec6-4b52-a978-a21537c03466",
      "metadata": {
        "id": "9d4838d9-4ec6-4b52-a978-a21537c03466",
        "outputId": "9a3af386-b589-4e94-87f5-57cd5af80555"
      },
      "outputs": [
        {
          "data": {
            "text/plain": [
              "array([47.87710228, 47.67885797, 47.79396917, ..., 47.95038749,\n",
              "       47.94696215, 47.73322398])"
            ]
          },
          "execution_count": 43,
          "metadata": {},
          "output_type": "execute_result"
        }
      ],
      "source": [
        "test_preds"
      ]
    },
    {
      "cell_type": "code",
      "execution_count": null,
      "id": "a129f56e-5589-4c03-8d84-6f4dedbc4ee0",
      "metadata": {
        "id": "a129f56e-5589-4c03-8d84-6f4dedbc4ee0",
        "outputId": "c506bece-b6b1-487a-df3d-2e5c5201b66e"
      },
      "outputs": [
        {
          "data": {
            "text/html": [
              "<div>\n",
              "<style scoped>\n",
              "    .dataframe tbody tr th:only-of-type {\n",
              "        vertical-align: middle;\n",
              "    }\n",
              "\n",
              "    .dataframe tbody tr th {\n",
              "        vertical-align: top;\n",
              "    }\n",
              "\n",
              "    .dataframe thead th {\n",
              "        text-align: right;\n",
              "    }\n",
              "</style>\n",
              "<table border=\"1\" class=\"dataframe\">\n",
              "  <thead>\n",
              "    <tr style=\"text-align: right;\">\n",
              "      <th></th>\n",
              "      <th>seq_id</th>\n",
              "      <th>tm</th>\n",
              "    </tr>\n",
              "  </thead>\n",
              "  <tbody>\n",
              "    <tr>\n",
              "      <th>0</th>\n",
              "      <td>31390</td>\n",
              "      <td>47.877102</td>\n",
              "    </tr>\n",
              "    <tr>\n",
              "      <th>1</th>\n",
              "      <td>31391</td>\n",
              "      <td>47.678858</td>\n",
              "    </tr>\n",
              "    <tr>\n",
              "      <th>2</th>\n",
              "      <td>31392</td>\n",
              "      <td>47.793969</td>\n",
              "    </tr>\n",
              "    <tr>\n",
              "      <th>3</th>\n",
              "      <td>31393</td>\n",
              "      <td>47.886354</td>\n",
              "    </tr>\n",
              "    <tr>\n",
              "      <th>4</th>\n",
              "      <td>31394</td>\n",
              "      <td>47.890549</td>\n",
              "    </tr>\n",
              "  </tbody>\n",
              "</table>\n",
              "</div>"
            ],
            "text/plain": [
              "   seq_id         tm\n",
              "0   31390  47.877102\n",
              "1   31391  47.678858\n",
              "2   31392  47.793969\n",
              "3   31393  47.886354\n",
              "4   31394  47.890549"
            ]
          },
          "execution_count": 46,
          "metadata": {},
          "output_type": "execute_result"
        }
      ],
      "source": [
        "# Code for submission\n",
        "submission = pd.read_csv('./sample_submission.csv')\n",
        "submission['tm'] = test_preds\n",
        "submission.head()"
      ]
    },
    {
      "cell_type": "markdown",
      "id": "e2ff1067-7fe9-4d1f-8a82-dd1b01cdf3dc",
      "metadata": {
        "id": "e2ff1067-7fe9-4d1f-8a82-dd1b01cdf3dc"
      },
      "source": [
        "Unlike the distribution of tm from train file which was distributed well between 0-130 range approximately our tm here looks to be distributed only between 47 -49 approximately\n",
        "\n",
        "May be this model is too simple for the task at hand and we are underfitting."
      ]
    },
    {
      "cell_type": "code",
      "execution_count": null,
      "id": "d4b51914-2ad3-46d7-843f-a1c4af54e977",
      "metadata": {
        "id": "d4b51914-2ad3-46d7-843f-a1c4af54e977"
      },
      "outputs": [],
      "source": [
        "ss.to_csv(\"sumbission.csv\",index = False)"
      ]
    }
  ],
  "metadata": {
    "kernelspec": {
      "display_name": "Python 3 (ipykernel)",
      "language": "python",
      "name": "python3"
    },
    "language_info": {
      "codemirror_mode": {
        "name": "ipython",
        "version": 3
      },
      "file_extension": ".py",
      "mimetype": "text/x-python",
      "name": "python",
      "nbconvert_exporter": "python",
      "pygments_lexer": "ipython3",
      "version": "3.7.10"
    },
    "colab": {
      "provenance": [],
      "include_colab_link": true
    },
    "accelerator": "GPU",
    "gpuClass": "standard"
  },
  "nbformat": 4,
  "nbformat_minor": 5
}